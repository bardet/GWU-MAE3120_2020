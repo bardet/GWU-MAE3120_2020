{
 "cells": [
  {
   "cell_type": "markdown",
   "metadata": {},
   "source": [
    "# Midterm review\n",
    "\n",
    "## Quiz\n",
    "> What are the major elements of a data acquisition system?\n",
    "\n",
    "\n",
    "> How can you check for clipping in your acquired data? How could you correct for it?\n",
    "\n",
    "> When acquiring a repeatable signal of fixed frequency with a data acquisition system, which test can you use to determine if you have aliasing in your data?\n",
    "\n",
    "> In digital data acquisition, what is leakage? How will it manifest itself on a frequency spectrum?\n",
    "\n",
    "> Propose at least one strategy to minimize leakage.\n",
    "\n",
    "> How should you select the sampling frequency and number of samples acquired with digital data acquisition system to have the best possible frequency resolution?\n",
    "\n",
    "> A signal consists of a sine wave of frequency $f$ = 30 Hz. Data are sampled discretely at sampling frequency $_fs$ = 49 Hz. Is there aliasing? Calculate the apparent frequency in Hz."
   ]
  },
  {
   "cell_type": "markdown",
   "metadata": {},
   "source": [
    "## Filter\n",
    "A beam vibrates at 100 Hz. The vibrations are measured with a strain gage and Wheatstone bridge.  The output voltage of the sensor is $V_{out} = 2 V_s \\sigma$, with $V_s=5.00$ V the supply voltage and $\\sigma=\\delta L/L$ the strain.  The strain is in the range of $\\pm 5\\times 10^{-4}$. In addition, you know that:\n",
    "\n",
    "> there is noise on the input: $_{fnoise}$ = 40,000Hz with amplitude 0.100 mV .\n",
    "\n",
    "> The output is sent to your NI USB-6008 DAQ board, which has a 12bit A/D converter with a range of $\\pm$ 5V .\n",
    "\n",
    "> All op-amps have a GBP (non-inverting) of 1.0 MHz.\n",
    "\n",
    "Propose a scheme to filter the noise our of the signal.  Draw the equivalent circuit.  Make sure your circuit enables you to take full advantage of the ADC."
   ]
  },
  {
   "cell_type": "markdown",
   "metadata": {},
   "source": [
    "## Dynamic response\n",
    "A single-stage, passive low-pass (RC) filter is designed to have a cut-off frequency, $f_c = 1$ kHz. Its resistance equals 100 $\\Omega$. Determine the filter:\n",
    "> time constant (in s)\n",
    "\n",
    "> capacitance (in F)\n",
    "\n",
    "> signal magnitude ratio at $f = 3$ kHz."
   ]
  },
  {
   "cell_type": "code",
   "execution_count": null,
   "metadata": {},
   "outputs": [],
   "source": []
  }
 ],
 "metadata": {
  "kernelspec": {
   "display_name": "Python 3",
   "language": "python",
   "name": "python3"
  },
  "language_info": {
   "codemirror_mode": {
    "name": "ipython",
    "version": 3
   },
   "file_extension": ".py",
   "mimetype": "text/x-python",
   "name": "python",
   "nbconvert_exporter": "python",
   "pygments_lexer": "ipython3",
   "version": "3.6.5"
  }
 },
 "nbformat": 4,
 "nbformat_minor": 2
}
