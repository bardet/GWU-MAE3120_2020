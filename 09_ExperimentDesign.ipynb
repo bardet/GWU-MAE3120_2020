{
 "cells": [
  {
   "cell_type": "markdown",
   "metadata": {},
   "source": [
    "# 09 Design of experiments\n",
    "\n",
    "## Design steps\n",
    "\n",
    "__Define the problem__\n",
    "\n",
    "__Design the experiment__\n",
    "> 1- Literature review\n",
    "\n",
    "> Analytical analysis\n",
    "\n",
    "> Dimensional analysis\n",
    "\n",
    "> Select instrument \n",
    "\n",
    "> Design stage uncertainty analysis\n",
    "\n",
    "> Design test matrix\n",
    "\n",
    "> Design experimental apparatus\n",
    "\n",
    "> Iterate \n",
    "\n",
    "## Taguchi design array\n",
    "or test matrices/design arrays/orthogonal arrays\n",
    "\n",
    "__Optimum Taguchi Design Array__\n",
    "> Each level of each parameter appreas the same number of times in the array.\n",
    "\n",
    "> Repetitions of parameter-level combinations are minimized as much as possible.\n",
    "\n",
    "<img src=\"img/FullFactorialDA.png\" width=\"120\">\n",
    "\n",
    "<img src=\"img/Taguchi3-2.png\" width=\"120\">\n",
    "\n",
    "<img src=\"img/Taguchi4-3.png\" width=\"150\">\n"
   ]
  },
  {
   "cell_type": "code",
   "execution_count": null,
   "metadata": {},
   "outputs": [],
   "source": []
  }
 ],
 "metadata": {
  "kernelspec": {
   "display_name": "Python 3",
   "language": "python",
   "name": "python3"
  },
  "language_info": {
   "codemirror_mode": {
    "name": "ipython",
    "version": 3
   },
   "file_extension": ".py",
   "mimetype": "text/x-python",
   "name": "python",
   "nbconvert_exporter": "python",
   "pygments_lexer": "ipython3",
   "version": "3.6.5"
  }
 },
 "nbformat": 4,
 "nbformat_minor": 2
}
