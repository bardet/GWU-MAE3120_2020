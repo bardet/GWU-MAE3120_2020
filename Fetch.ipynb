{
 "cells": [
  {
   "cell_type": "code",
   "execution_count": null,
   "metadata": {
    "deletable": false
   },
   "outputs": [],
   "source": [
    "# Sets the number of lecture files to replace based off lecture number\n",
    "# MIN_LECTURE = -1:  replace all lecture files\n",
    "# MIN_LECTURE = 2:   replace all lecture files greater than lecture 2\n",
    "# MIN_LECTURE = 100: replace no lecture files\n",
    "MIN_LECTURE = -1"
   ]
  },
  {
   "cell_type": "code",
   "execution_count": null,
   "metadata": {
    "deletable": false,
    "editable": false
   },
   "outputs": [],
   "source": [
    "import zipfile, os, shutil, urllib.request, sys\n",
    "\n",
    "if os.path.exists('./README.md'):\n",
    "    exit()\n",
    "    raise SystemExit('Running cells after this line will delete significant amounts of data. Do not run in the development folder.')"
   ]
  },
  {
   "cell_type": "code",
   "execution_count": null,
   "metadata": {
    "deletable": false,
    "editable": false
   },
   "outputs": [],
   "source": [
    "# Download zip file\n",
    "url = 'https://github.com/bardet/GWU-MAE3120_2020/archive/master.zip'\n",
    "urllib.request.urlretrieve(url, 'GWU-MAE3120_2020-master.zip');"
   ]
  },
  {
   "cell_type": "code",
   "execution_count": null,
   "metadata": {
    "deletable": false,
    "editable": false
   },
   "outputs": [],
   "source": [
    "# Extract zip file\n",
    "files = zipfile.ZipFile(\"GWU-MAE3120_2020-master.zip\", 'r')\n",
    "files.extractall('temp_upload')\n",
    "files.close()"
   ]
  },
  {
   "cell_type": "code",
   "execution_count": null,
   "metadata": {
    "deletable": false,
    "editable": false
   },
   "outputs": [],
   "source": [
    "# Set directory paths\n",
    "gen_dir = 'temp_upload/GWU-MAE3120_2020-master/'\n",
    "img_dir = gen_dir + 'Lectures/img'\n",
    "data_dir = gen_dir + 'Lectures/data'\n",
    "lec_dir = gen_dir + 'Lectures'\n",
    "lab_dir = gen_dir + 'Labs'\n",
    "\n",
    "gen_out = '.'\n",
    "img_out = 'Lectures/img'\n",
    "data_out = 'Lectures/data'\n",
    "lec_out = 'Lectures'\n",
    "lab_out = 'Labs'"
   ]
  },
  {
   "cell_type": "code",
   "execution_count": null,
   "metadata": {
    "deletable": false,
    "editable": false
   },
   "outputs": [],
   "source": [
    "# Delete old img and data files\n",
    "try:\n",
    "    os.remove('Fetch.ipynb')\n",
    "    shutil.rmtree(img_out)\n",
    "    shutil.rmtree(data_out)\n",
    "    shutil.rmtree(lab_out)\n",
    "except Exception:\n",
    "    ;"
   ]
  },
  {
   "cell_type": "code",
   "execution_count": null,
   "metadata": {
    "deletable": false,
    "editable": false
   },
   "outputs": [],
   "source": [
    "# Change img and data extensions to lower case\n",
    "def lowerDir(directory):\n",
    "    for file in os.listdir(directory):\n",
    "        name = os.path.splitext(file)[0]\n",
    "        ext = os.path.splitext(file)[1]\n",
    "\n",
    "        path = os.path.join(directory, file)\n",
    "        target = os.path.join(directory, name + str(ext).lower())\n",
    "        os.rename(path, target)\n",
    "\n",
    "lowerDir(img_dir)\n",
    "lowerDir(data_dir)\n",
    "lowerDir(gen_dir)"
   ]
  },
  {
   "cell_type": "code",
   "execution_count": null,
   "metadata": {
    "deletable": false,
    "editable": false
   },
   "outputs": [],
   "source": [
    "# Move img and data files\n",
    "shutil.copytree(img_dir, img_out);\n",
    "shutil.copytree(data_dir, data_out);\n",
    "shutil.copytree(lab_dir, lab_out);"
   ]
  },
  {
   "cell_type": "code",
   "execution_count": null,
   "metadata": {
    "deletable": false,
    "editable": false
   },
   "outputs": [],
   "source": [
    "# Replace lectures greater than MIN_LECTURE\n",
    "for file in os.listdir(lec_dir):\n",
    "    if file.endswith('.ipynb') and (file.startswith('0') or file.startswith('1')):\n",
    "        num = int(file[0:2])\n",
    "        if num > MIN_LECTURE:\n",
    "            try:\n",
    "                shutil.move(os.path.join(lec_dir, file), os.path.join(lec_out, file))\n",
    "            except Exception:\n",
    "                ;"
   ]
  },
  {
   "cell_type": "code",
   "execution_count": null,
   "metadata": {
    "deletable": false,
    "editable": false
   },
   "outputs": [],
   "source": [
    "# Delete GWU-MAE3120_2020-master.zip and temp_upload, re-add Fetch.ipynb\n",
    "try:\n",
    "    shutil.move(os.path.join(gen_dir, 'Fetch.ipynb'), os.path.join(gen_out, 'Fetch.ipynb'));\n",
    "    shutil.rmtree('temp_upload')\n",
    "    os.remove('GWU-MAE3120_2020-master.zip')\n",
    "except Exception:\n",
    "    ;"
   ]
  }
 ],
 "metadata": {
  "kernelspec": {
   "display_name": "Python 3",
   "language": "python",
   "name": "python3"
  },
  "language_info": {
   "codemirror_mode": {
    "name": "ipython",
    "version": 3
   },
   "file_extension": ".py",
   "mimetype": "text/x-python",
   "name": "python",
   "nbconvert_exporter": "python",
   "pygments_lexer": "ipython3",
   "version": "3.7.3"
  }
 },
 "nbformat": 4,
 "nbformat_minor": 2
}
