{
 "cells": [
  {
   "cell_type": "markdown",
   "metadata": {},
   "source": [
    "# MAE 3120 Methods of Engineering Experiments\n",
    "# Statistics Review \n",
    "\n",
    "##### Panagiotis Rammos\n",
    "##### Last updated: 30 Jan 2019\n"
   ]
  },
  {
   "cell_type": "code",
   "execution_count": 1,
   "metadata": {},
   "outputs": [],
   "source": [
    "from IPython.core.display import HTML\n",
    "# HTML(\"\"\" <style>\n",
    "# div.cell { /* Tunes the space between cells */margin-top:2em; margin-bottom:2em;}\n",
    "# div.text_cell_render h1 { /* Main titles bigger, centered */font-size: 2.0em;line-height:1em; text-align:left;}\n",
    "# div.text_cell_render h2 { /*  Parts names nearer from text */margin-bottom: -0.2em;}\n",
    "# div.text_cell_render { /* Customize text cells */ font-family: 'Times New Roman';font-size:1.5em;line-height:1.8em;padding-left:1em;padding-right:1em;}\n",
    "# </style>\"\"\")"
   ]
  },
  {
   "cell_type": "markdown",
   "metadata": {},
   "source": [
    "# Basic definitions for data analysis using statistics"
   ]
  },
  {
   "cell_type": "markdown",
   "metadata": {},
   "source": [
    "### Population\n",
    "The entire collection of measurements, not all of which will be analyzed statistically.\n",
    "\n",
    "### Sample\n",
    "A subset of the population that is analyzed statistically.\n",
    "\n",
    "### Statistic\n",
    "A numerical attribute of the sample (e.g., mean, median, standard deviation)."
   ]
  },
  {
   "cell_type": "markdown",
   "metadata": {},
   "source": [
    "### Import data from file for statistical analysis"
   ]
  },
  {
   "cell_type": "code",
   "execution_count": 2,
   "metadata": {},
   "outputs": [],
   "source": [
    "# Import Numpy library\n",
    "import numpy \n",
    "\n",
    "# Import temperature sample (in Celsius) in an array - 1000 measurements \n",
    "Temp = numpy.loadtxt (\"data/Temperature_Data.csv\", delimiter = ',', skiprows = 1, usecols = 1, unpack = True) \n",
    "\n",
    "n = numpy.size ( Temp ) # Number of measurements of the sample"
   ]
  },
  {
   "cell_type": "markdown",
   "metadata": {},
   "source": [
    "### Sample mean\n",
    "\n",
    "The arithmetic average calculated with \n",
    "\\begin{align*}\n",
    "\\large\n",
    "\\bar{x} = \\frac{1}{n} \\displaystyle\\sum_{i=1}^{n} x_i\n",
    "\\end{align*}\n",
    "\n",
    "where $i$ is one of the n measurements of the sample."
   ]
  },
  {
   "cell_type": "markdown",
   "metadata": {},
   "source": [
    "**Note:** The mean and median are measures of the **central tendency** of a set of measurements - i.e. the tendency of the data to cluster, center about certain numerical values."
   ]
  },
  {
   "cell_type": "code",
   "execution_count": 3,
   "metadata": {},
   "outputs": [
    {
     "name": "stdout",
     "output_type": "stream",
     "text": [
      "31.009\n"
     ]
    }
   ],
   "source": [
    "Tmean = numpy.round ( numpy.mean (Temp), 3)\n",
    "print ( Tmean )"
   ]
  },
  {
   "cell_type": "markdown",
   "metadata": {},
   "source": [
    "### Median \n",
    "\n",
    "Median of a sample is the value at which half of the measurements are lower and half are higher. \n",
    "\n",
    "Once the measurements are order from lower to higher: \n",
    "- If n is odd: Number in the middle is the median.\n",
    "- If n is even: Average of two middle values is the median.\n",
    "\n",
    "Sometimes the median is __more useful__ than the mean, especially when one or two values are significantly different than the others. The median is __less sensitive__ to extremely large or small measurements."
   ]
  },
  {
   "cell_type": "code",
   "execution_count": 4,
   "metadata": {},
   "outputs": [],
   "source": [
    "# Create a sample with outliers\n",
    "sample = numpy.array ([4, 4, 6, 6, 4, 3, 7, 20, 20])"
   ]
  },
  {
   "cell_type": "code",
   "execution_count": 5,
   "metadata": {},
   "outputs": [
    {
     "name": "stdout",
     "output_type": "stream",
     "text": [
      "Sample mean 8.222222222222221\n"
     ]
    }
   ],
   "source": [
    "Mean = numpy. mean (sample)\n",
    "print ('Sample mean', Mean)"
   ]
  },
  {
   "cell_type": "code",
   "execution_count": 6,
   "metadata": {},
   "outputs": [
    {
     "name": "stdout",
     "output_type": "stream",
     "text": [
      "Sample median 6.0\n"
     ]
    }
   ],
   "source": [
    "Median = numpy. median (sample)\n",
    "print ('Sample median', Median)"
   ]
  },
  {
   "cell_type": "markdown",
   "metadata": {},
   "source": [
    "### Numerical measures of variability\n",
    "In order to achieve a complete description of our data, we do not only need measures of central tendency, but also measures of variability or spread of the data set."
   ]
  },
  {
   "cell_type": "markdown",
   "metadata": {},
   "source": [
    "### Deviation of a measurement\n",
    "\n",
    "The difference between a particular measurement and the mean, i.e., for measurement $i$\n",
    "\n",
    "\n",
    "\\begin{align*}\n",
    "\\large\n",
    "d_i = x_i - \\bar{x}\n",
    "\\end{align*}\n",
    "\n",
    "The deviation of one particular measurement is the same as the _precision_ or _random_ error of that measurement."
   ]
  },
  {
   "cell_type": "code",
   "execution_count": 7,
   "metadata": {
    "scrolled": true
   },
   "outputs": [],
   "source": [
    "deviation = Temp - Tmean\n",
    "# print (deviation)"
   ]
  },
  {
   "cell_type": "markdown",
   "metadata": {},
   "source": [
    "### How much deviation is represented in the sample? "
   ]
  },
  {
   "cell_type": "markdown",
   "metadata": {},
   "source": [
    "### Average deviation\n",
    "\n",
    "We can obtain an average of the deviations. However, the average of all the deviations is **zero**! Some measurements are smaller and some larger than the average. \n",
    "\n",
    "Thus, this is not a particularly useful statistic. \n"
   ]
  },
  {
   "cell_type": "code",
   "execution_count": 8,
   "metadata": {},
   "outputs": [
    {
     "data": {
      "text/plain": [
       "0.0003199999999995917"
      ]
     },
     "execution_count": 8,
     "metadata": {},
     "output_type": "execute_result"
    }
   ],
   "source": [
    "numpy.mean ( deviation ) "
   ]
  },
  {
   "cell_type": "markdown",
   "metadata": {},
   "source": [
    "### Average absolute deviation\n",
    "\n",
    "A better measure of deviation - The average of the absolute value of each deviation\n",
    "\n",
    "\\begin{align*}\n",
    "\\large\n",
    "| \\bar{d} | = \\frac{1}{n} \\displaystyle\\sum_{i=1}^{n} |d_i |\n",
    "\\end{align*}\n",
    "\n",
    "\n",
    "where $d_i$ is called the absolute deviation or positive error."
   ]
  },
  {
   "cell_type": "code",
   "execution_count": 9,
   "metadata": {},
   "outputs": [
    {
     "name": "stdout",
     "output_type": "stream",
     "text": [
      "1.186884\n"
     ]
    }
   ],
   "source": [
    "Absdeviation = abs (deviation)\n",
    "Avabsdeviation = numpy.mean (Absdeviation)\n",
    "print (Avabsdeviation)"
   ]
  },
  {
   "cell_type": "markdown",
   "metadata": {},
   "source": [
    "### Sample standard deviation\n",
    "\n",
    "Better measure of how much deviation or scatter exist in the data.\n",
    "\n",
    "\\begin{align*}\n",
    "\\large\n",
    "S = \\sqrt{\\frac{\\displaystyle\\sum_{i=1}^{n} {d_i}^ 2}{n - 1} } = \\sqrt{\\frac{\\displaystyle\\sum_{i=1}^{n} {(x_i - \\bar{x})}^ 2}{n - 1} } \n",
    "\\end{align*}\n"
   ]
  },
  {
   "cell_type": "code",
   "execution_count": 10,
   "metadata": {},
   "outputs": [
    {
     "name": "stdout",
     "output_type": "stream",
     "text": [
      "1.4873070757580629\n"
     ]
    }
   ],
   "source": [
    "Stdeviation = numpy. std (Temp)\n",
    "print ( Stdeviation )"
   ]
  },
  {
   "cell_type": "markdown",
   "metadata": {},
   "source": [
    "### Sample variance\n",
    "\n",
    "The square root of the sample standard deviation.\n",
    "\n",
    "\\begin{align*}\n",
    "\\large\n",
    "sample \\ variance = S^2\n",
    "\\end{align*}\n",
    "\n"
   ]
  },
  {
   "cell_type": "code",
   "execution_count": 11,
   "metadata": {},
   "outputs": [
    {
     "name": "stdout",
     "output_type": "stream",
     "text": [
      "2.2120823376\n"
     ]
    }
   ],
   "source": [
    "variance = numpy.var (Temp)\n",
    "print (variance)"
   ]
  },
  {
   "cell_type": "markdown",
   "metadata": {},
   "source": [
    "### Standard error\n",
    "\n",
    "The standard deviation divided by the square root of the number of measurements\n",
    "\n",
    "\\begin{align*}\n",
    "\\large\n",
    "standard \\ error = \\frac{S}{\\sqrt {n}}\n",
    "\\end{align*}"
   ]
  },
  {
   "cell_type": "code",
   "execution_count": 12,
   "metadata": {},
   "outputs": [
    {
     "name": "stdout",
     "output_type": "stream",
     "text": [
      "0.047032779394800814\n"
     ]
    }
   ],
   "source": [
    "sterror = Stdeviation / numpy.sqrt ( numpy.size( Temp ) )\n",
    "print (sterror)"
   ]
  },
  {
   "cell_type": "markdown",
   "metadata": {},
   "source": [
    "### Mode\n",
    "\n",
    "The most probable value of the n measurements. The one that occurs more frequently."
   ]
  },
  {
   "cell_type": "markdown",
   "metadata": {},
   "source": [
    "# Histograms\n",
    "\n",
    "![Histogram characteristics](img/img_00/Histogram.png)"
   ]
  },
  {
   "cell_type": "markdown",
   "metadata": {},
   "source": [
    "Histograms are constructed by divvying up the _n_ measurements of a sample into _J_ **bins or intervals or classes** such that for the first bin \n",
    "\n",
    "\\begin{align*}\n",
    "\\large\n",
    "( \\ j=1 \\ ), \\ x_1 < x \\le x_2,\n",
    "\\end{align*}\n",
    "\n",
    "for the second bin \n",
    "\\begin{align*}\n",
    "\\large\n",
    "(\\ j=2 \\ ), \\ x_2 < x \\le x_3,\n",
    "\\end{align*}\n",
    "\n",
    "etc. \n",
    "\n",
    "The **middle value** of $x$ in bin $j$ is defined as $x_{mid,j}$: \n",
    "\n",
    "E.g. for the second bin $( \\ j=2 \\ )$:\n",
    "\\begin{align*}\n",
    "\\large\n",
    "x_{mid,2} = (\\ x_2 + x_3 \\ ) / \\ 2\n",
    "\\end{align*}\n",
    "\n",
    "The **bin width** is usually constant, although it does not have to be.\n",
    "\n",
    "Eventually, a **bar plot** is made of the frequency - the number of measurements in each bin versus the value of x."
   ]
  },
  {
   "cell_type": "markdown",
   "metadata": {},
   "source": [
    "### How to determine the number of bins?\n",
    "\n",
    "There are some general rules of thumb for the selection of the number of bins to be used in a histogram.\n",
    "\n",
    "### Sturgis rule\n",
    "\\begin{align*}\n",
    "\\large\n",
    "J = 1 + 3.3 \\log_{10} n\n",
    "\\end{align*}\n",
    "\n",
    "where $n$ is the total number of measurements in the sample and and $J$ is the number of bins or intervals in the histogram\n",
    "\n",
    "### Rice rule\n",
    "\n",
    "\\begin{align*}\n",
    "\\large\n",
    "J = 2n^{1/3}\n",
    "\\end{align*}\n",
    "\n",
    "For small number of $n$ measurements, the two rules yield **similar** results. \n",
    "\n",
    "5 bins is the generally accepted **minimum** number of bins in a histogram.\n",
    "\n",
    "In general, we should use between 5 and 20 bins for a histogram. Of course, we can experiment with the number of bins and choose the one that yields the **most meaningful histogram**."
   ]
  },
  {
   "cell_type": "code",
   "execution_count": 13,
   "metadata": {},
   "outputs": [],
   "source": [
    "# Sturgis rule \n",
    "def Sturgis ( n ) :\n",
    "    J = int (round ( 1 + 3.3 * numpy.log10 ( n ) ) )\n",
    "    return J\n",
    "\n",
    "def Rice ( n ) :\n",
    "    J = int ( round ( 2 * ( n ** ( 1/ 3 ) ) ) )\n",
    "    return J"
   ]
  },
  {
   "cell_type": "code",
   "execution_count": 14,
   "metadata": {},
   "outputs": [],
   "source": [
    "BRice = Rice (n)\n",
    "BSturgis = Sturgis (n)"
   ]
  },
  {
   "cell_type": "code",
   "execution_count": 15,
   "metadata": {
    "scrolled": false
   },
   "outputs": [
    {
     "data": {
      "image/png": "[encoded data removed]",
      "text/plain": [
       "<Figure size 1296x720 with 2 Axes>"
      ]
     },
     "metadata": {
      "needs_background": "light"
     },
     "output_type": "display_data"
    }
   ],
   "source": [
    "from matplotlib import pyplot\n",
    "%matplotlib inline\n",
    "\n",
    "font = 18\n",
    "pyplot.figure (figsize = ( 18, 10 ) )\n",
    "Riceplot = pyplot.subplots_adjust (wspace = 0.7)\n",
    "pyplot.subplot(121)\n",
    "pyplot. hist ( Temp, bins = BRice, edgecolor = 'r' ) # You can also specify the bin edges with an array containing them\n",
    "pyplot. ylabel ( 'Frequency' ,fontsize = font)\n",
    "pyplot. xlabel ( 'Temperature, C', fontsize = font)\n",
    "pyplot. title ( 'Bins from Rice rule', fontsize = font)\n",
    "pyplot.yticks( fontsize = font )\n",
    "pyplot.xticks( fontsize = font )\n",
    "\n",
    "Sturgisplot = pyplot.subplot(122)\n",
    "pyplot. hist ( Temp, bins = BSturgis, edgecolor = 'r' )\n",
    "pyplot. ylabel ( 'Frequency ', fontsize = font )\n",
    "pyplot. xlabel ( 'Temperature, C', fontsize = font)\n",
    "pyplot. title ( 'Bins from Sturgis rule', fontsize = font);\n",
    "pyplot.yticks ( fontsize=font )\n",
    "pyplot.xticks ( fontsize=font );"
   ]
  },
  {
   "cell_type": "markdown",
   "metadata": {},
   "source": [
    "Another way to build the histogram - This function will generate the bin edges array and the frequency array"
   ]
  },
  {
   "cell_type": "code",
   "execution_count": 16,
   "metadata": {},
   "outputs": [],
   "source": [
    "freq, bin_edges = numpy.histogram (Temp, bins= 15 , weights=None,)"
   ]
  },
  {
   "cell_type": "markdown",
   "metadata": {},
   "source": [
    "The sum of the frequency array must be equal to the number of measurements"
   ]
  },
  {
   "cell_type": "code",
   "execution_count": 17,
   "metadata": {},
   "outputs": [
    {
     "data": {
      "text/plain": [
       "1000"
      ]
     },
     "execution_count": 17,
     "metadata": {},
     "output_type": "execute_result"
    }
   ],
   "source": [
    "numpy.sum(freq)"
   ]
  },
  {
   "cell_type": "markdown",
   "metadata": {},
   "source": [
    "Alternatively, we can tailor the bin edges values by creating an array that contains them "
   ]
  },
  {
   "cell_type": "code",
   "execution_count": 18,
   "metadata": {},
   "outputs": [],
   "source": [
    "spec_bin_edges = ( [ 28, 29, 30, 31, 32, 33, 34 ] )"
   ]
  },
  {
   "cell_type": "code",
   "execution_count": 19,
   "metadata": {
    "scrolled": false
   },
   "outputs": [
    {
     "data": {
      "image/png": "[encoded data removed]",
      "text/plain": [
       "<Figure size 720x720 with 1 Axes>"
      ]
     },
     "metadata": {
      "needs_background": "light"
     },
     "output_type": "display_data"
    }
   ],
   "source": [
    "Binedges = pyplot.figure (figsize = ( 10, 10 ) )\n",
    "pyplot. hist ( Temp, bins = spec_bin_edges, edgecolor = 'r' )\n",
    "pyplot. ylabel ( 'Frequency - number of measurements in each bin', fontsize = font )\n",
    "pyplot. xlabel ( 'Temperature, C', fontsize = font)\n",
    "pyplot. title ( 'Specified bin edges', fontsize = font);\n",
    "pyplot.yticks ( fontsize=font )\n",
    "pyplot.xticks ( fontsize=font );"
   ]
  },
  {
   "cell_type": "markdown",
   "metadata": {},
   "source": [
    "### Probability histograms and normalized histograms\n",
    "\n",
    "The frequency axis can be converted to a **relative frequency axis** or **probability** by dividing with the total number of measurements $n$, such that\n",
    "\n",
    "for the second bin \n",
    "\\begin{align*}\n",
    "\\large\n",
    "probability_j = \\frac {number \\ of \\ measurements \\ in \\  bin \\ j}{n}\n",
    "\\end{align*}\n",
    "\n",
    "![Probability histogram](img/img_00/probhistogram.png)\n"
   ]
  },
  {
   "cell_type": "code",
   "execution_count": 20,
   "metadata": {},
   "outputs": [
    {
     "data": {
      "image/png": "[encoded data removed]",
      "text/plain": [
       "<Figure size 720x720 with 1 Axes>"
      ]
     },
     "metadata": {
      "needs_background": "light"
     },
     "output_type": "display_data"
    }
   ],
   "source": [
    "Probplot = pyplot.figure (figsize = ( 10, 10 ) )\n",
    "pyplot.hist( Temp, bins = spec_bin_edges, weights = numpy.zeros_like(Temp) + 1. / Temp.size, edgecolor = 'r')\n",
    "pyplot. ylabel ( 'Probability ', fontsize = font )\n",
    "pyplot. xlabel ( 'Temperature, C', fontsize = font)\n",
    "pyplot. title ( 'Probability histogram', fontsize = font);\n",
    "pyplot.yticks ( fontsize=font )\n",
    "pyplot.xticks ( fontsize=font );"
   ]
  },
  {
   "cell_type": "markdown",
   "metadata": {},
   "source": [
    "A vertically normalized histogram can be created by further dividing the probability axis by the bin width: \n",
    "\n",
    "\\begin{align*}\n",
    "\\large\n",
    "f \\ ( \\ x_{mid,j} \\ ) = \\frac{probability_j}{Δx_j} = \\frac{number \\ of \\ measurements \\ in \\ bin \\ j}{n \\ Δx_j}\n",
    "\\end{align*}"
   ]
  },
  {
   "cell_type": "markdown",
   "metadata": {},
   "source": [
    "This simply quarantees **mathematically** that the area of the bin is **equal** to the probability that x lies in that bin"
   ]
  },
  {
   "cell_type": "markdown",
   "metadata": {},
   "source": [
    "In our case the bin width is equal to unity, so the probability and vertically normalized histogram are identical."
   ]
  },
  {
   "cell_type": "code",
   "execution_count": 21,
   "metadata": {},
   "outputs": [
    {
     "data": {
      "image/png": "[encoded data removed]",
      "text/plain": [
       "<Figure size 720x720 with 1 Axes>"
      ]
     },
     "metadata": {
      "needs_background": "light"
     },
     "output_type": "display_data"
    }
   ],
   "source": [
    "Normalizedplot = pyplot.figure (figsize = ( 10, 10 ) )\n",
    "pyplot.hist( Temp, bins = spec_bin_edges, weights = numpy.zeros_like(Temp) + 1. / Temp.size, edgecolor = 'r')\n",
    "\n",
    "pyplot. ylabel ( 'f(x) ', fontsize = font )\n",
    "pyplot. xlabel ( 'Temperature, C', fontsize = font)\n",
    "pyplot. title ( 'Vertically normalized histogram', fontsize = font);\n",
    "pyplot.yticks ( fontsize=font )\n",
    "pyplot.xticks ( fontsize=font );"
   ]
  },
  {
   "cell_type": "markdown",
   "metadata": {},
   "source": [
    "### Different types of histograms\n",
    "\n",
    "![Histogram types](img/img_00/histogramtypes.png)"
   ]
  },
  {
   "cell_type": "markdown",
   "metadata": {},
   "source": [
    "# Probability density functions\n",
    "\n",
    "A probability density function (PDF) is built by fitting a smooth curve through the vertically normalized histogram.\n",
    "\n",
    "![PDF](img/img_00/PDF.png)\n",
    "\n",
    "You can think of a PDF as the smooth limit of a vertically normalized histogram if there were millions of measurements and a huge number of bins. \n",
    "\n",
    "The main difference:\n",
    "- Histogram - Discrete data\n",
    "- PDF - Continuous data\n",
    "\n",
    "\n",
    "The PDF $f(x)$ is defined mathematically as\n",
    "\n",
    "\\begin{align*}\n",
    "\\large\n",
    "f(x_i) = \\frac{P(x_i-\\frac{dx}{2} < x \\le x_i + \\frac{dx}{2})}{dx}\n",
    "\\end{align*}"
   ]
  },
  {
   "cell_type": "markdown",
   "metadata": {},
   "source": [
    "For the given infinitesimal range __the integral under the PDF curve is the probability that a measurement lies within that range__.\n",
    "\n",
    "![PDFarea](img/img_00/PDFarea.png)"
   ]
  },
  {
   "cell_type": "markdown",
   "metadata": {},
   "source": [
    "Suppose we choose a range of our variable x, between $a$ and $b$. The probability that a measurement lies between $a$ and $b$ is simply the integral under the PDF curve between $a$ and $b$, where the probability is defined as \n",
    "\n",
    "\\begin{align*}\n",
    "\\large\n",
    "P (a < x \\le b ) = \\int_{x = a}^{x = b} f(x) dx\n",
    "\\end{align*}\n",
    "\n",
    "Obvisously, \n",
    "\n",
    "\\begin{align*}\n",
    "\\large\n",
    "P (- \\infty < x \\le + \\infty ) = \\int_{x = - \\infty}^{x = + \\infty} f(x) dx = 1\n",
    "\\end{align*}\n"
   ]
  },
  {
   "cell_type": "markdown",
   "metadata": {},
   "source": [
    "From now on we depart from discrete random variables and deal with continuous random variables"
   ]
  },
  {
   "cell_type": "markdown",
   "metadata": {},
   "source": [
    "### Expected value\n",
    "\n",
    "In terms of the probability density function, the expected value is the __mean of all possible x values in the continuous system__.\n",
    "\n",
    "Namely, the expected value is \n",
    "\n",
    "\\begin{align*}\n",
    "\\large\n",
    "\\mu = E (x) = \\int_{-\\infty}^{+\\infty} x \\ f(x)dx\n",
    "\\end{align*}\n",
    "\n",
    "If, ideally,  $f(x)$ **exactly** represents the population, $\\mu$ is the **mean of the entire population** of $x$ values. \n",
    "\n",
    "In general, \n",
    "\n",
    "\\begin{align*}\n",
    "\\large\n",
    " \\bar{x} \\neq \\mu , \n",
    " \\end{align*}\n",
    " \n",
    " but \n",
    " \n",
    "\\begin{align*}\n",
    "\\large\n",
    "\\bar{x} \\rightarrow \\mu\n",
    "\\end{align*}\n",
    "\n",
    "when $n$ is very large.\n",
    "\n",
    "\n",
    "### Standard deviation in terms of PDF\n",
    "\n",
    "\\begin{align*}\n",
    "\\large\n",
    "\\sigma = \\sqrt{\\int_{-\\infty}^{+\\infty} (x-\\mu)^2 \\ f(x)dx} \n",
    "\\end{align*}\n",
    "\n",
    "Again, if $f(x)$ exactly represents the population, $\\sigma$ is the **standard deviation of the entire population**. \n",
    "\n",
    "If $n$ is large, \n",
    "\n",
    "\\begin{align*}\n",
    "\\large\n",
    "S \\rightarrow \\sigma\n",
    "\\end{align*}"
   ]
  },
  {
   "cell_type": "markdown",
   "metadata": {},
   "source": [
    "## Normalized PDF\n",
    "\n",
    "Normalize by transforming both axes of the PDF plot, so that we can compare to **standard PDFs**.\n",
    "\n",
    "### Horizontal axis transformation\n",
    "\n",
    "\\begin{align*}\n",
    "\\large\n",
    "z = \\frac{x - \\mu}{\\sigma}\n",
    "\\end{align*}\n",
    "\n",
    "Normalized such that the PDF is centered around z = 0.\n",
    "\n",
    "### Vertical axis transformation \n",
    "\\begin{align*}\n",
    "\\large\n",
    "f(z) = \\sigma \\ f(x)\n",
    "\\end{align*}\n",
    "\n",
    "Normalized such that the PDF is spread in a similar fashion regardless of the standard deviation value.\n",
    "\n",
    "\n"
   ]
  },
  {
   "cell_type": "code",
   "execution_count": 22,
   "metadata": {},
   "outputs": [
    {
     "data": {
      "image/png": "[encoded data removed]",
      "text/plain": [
       "<Figure size 1080x360 with 2 Axes>"
      ]
     },
     "metadata": {
      "needs_background": "light"
     },
     "output_type": "display_data"
    }
   ],
   "source": [
    "# Use the histogram constructed with bins from the Sturgis rule\n",
    "freq, bin_edges = numpy.histogram (Temp, bins= BSturgis , range=None, normed=None, weights=None, density=None)\n",
    "\n",
    "# Calculate the probability values\n",
    "prob = freq / n \n",
    "\n",
    "# Calculate the vertically normalized function values\n",
    "PDFyaxis = prob / ( bin_edges[1]-bin_edges[0] )\n",
    "\n",
    "# Calculate the midpoints of each bin's interval\n",
    "PDFxaxis = numpy.zeros ( bin_edges.size - 1)\n",
    "i = 0\n",
    "for j in numpy.arange(0,11):  \n",
    "    PDFxaxis [ i ] = ( bin_edges [ i + 1 ] + bin_edges [ i ] ) / 2\n",
    "    i = i + 1\n",
    "    \n",
    "# Normalize the x-axis\n",
    "zvalues = ( PDFxaxis - Tmean ) / Stdeviation\n",
    "\n",
    "# Normalize the y-axis\n",
    "fzvalues = Stdeviation * PDFyaxis\n",
    "\n",
    "PDFnormal = pyplot.figure (figsize = ( 15, 5 ) )\n",
    "\n",
    "pyplot.subplots_adjust (wspace = 1.2)\n",
    "pyplot.subplot(121)\n",
    "pyplot.grid(True)\n",
    "pyplot.scatter (PDFxaxis, PDFyaxis)\n",
    "pyplot.ylabel ('f(x)', fontsize = font)\n",
    "pyplot.xlabel ('x ', fontsize = font)\n",
    "pyplot. title ( 'Vertically normalized PDF', fontsize = font);\n",
    "pyplot.yticks ( fontsize=font )\n",
    "pyplot.xticks ( fontsize=font );\n",
    "\n",
    "pyplot.subplot (122)\n",
    "pyplot.grid(True)\n",
    "pyplot.scatter (zvalues, fzvalues)\n",
    "pyplot.ylabel ('f(z)', fontsize = font)\n",
    "pyplot.xlabel ('z ', fontsize = font)\n",
    "pyplot. title ( 'Normalized variables', fontsize = font);\n",
    "pyplot.yticks ( fontsize=font )\n",
    "pyplot.xticks ( fontsize=font );\n"
   ]
  },
  {
   "cell_type": "markdown",
   "metadata": {},
   "source": [
    "# The Gaussian or Normal Probability Density Function\n",
    "\n",
    "The vertically normalized PDF that is produced from a signal or measurement that has purely random errors.\n",
    "\n",
    "![Normal](img/img_00/Normal.png)\n",
    "\n",
    "\n",
    "\\begin{align*}\n",
    "\\large\n",
    "f(x) = \\frac{1}{\\sigma \\sqrt {2 \\pi}} \\ exp {  ( \\frac{- (x - \\mu)^2}{2 \\ \\sigma^2}) }\n",
    "\\end{align*}\n",
    "\n",
    "Some properties: \n",
    "\n",
    "- Symmetric about the mean \n",
    "- The mean and median are both equal to $\\mu$, the expected value\n",
    "- Its plot is called a \"bell curve \" \n",
    "- The actual shape depends on the standard deviation magnitude\n",
    "\n",
    "### Standard normal density function\n",
    "\n",
    "\n",
    "All Gaussian PDFs can be collapsed into _one normalized curve_ through the variable transformations. The normalized curve is called **standard normal density function**.\n",
    "\n",
    "\\begin{align*}\n",
    "\\large\n",
    "z = \\frac{x - \\mu}{\\sigma}\n",
    "\\end{align*}\n",
    "\n",
    "\\begin{align*}\n",
    "\\large\n",
    "f(z) = \\sigma \\ f(x)\n",
    "\\end{align*}\n",
    "\n",
    "\\begin{align*}\n",
    "\\large\n",
    "f(z) = \\sigma \\ f(x) = \\frac{1}{\\sqrt {2 \\pi}} \\ exp {  ( \\frac{- z^2}{2 }) }\n",
    "\\end{align*}\n",
    "\n",
    "![NormNormal](img/img_00/NormNormal.png)\n",
    "\n",
    "\n",
    "This standard density function is valid for any signal measurement, __provided that the errors (deviations) are purely random__.\n",
    "\n",
    "It holds that \n",
    "\n",
    "\\begin{align*}\n",
    "\\large\n",
    "P (x_1 < x \\le x_2) = P (z_1 < z \\le z_2)\n",
    "\\end{align*}\n"
   ]
  },
  {
   "cell_type": "markdown",
   "metadata": {},
   "source": [
    "\n",
    "The probability that a measurement lies between $0$ and $z$ is given by the area under the curve between $0$ and $z$ :\n",
    "\n",
    "\\begin{align*}\n",
    "\\large\n",
    "A (z) = \\int_{0}^{z} f(z)dz\n",
    "\\end{align*}\n",
    "****\n",
    "![Azfunction](img/img_00/Az.png)\n",
    "\n",
    "**** \n",
    "Mathematically,\n",
    "\n",
    "\\begin{align*}\n",
    "\\large\n",
    "A (z) = \\frac{1}{2} \\ erf ( z \\ / \\sqrt{2} )\n",
    "\\end{align*}\n",
    "\n",
    "\\begin{align*}\n",
    "\\large\n",
    "erf (\\eta) = \\frac{2}{\\sqrt{\\pi}} \\int_{\\xi=0}^{\\xi = \\eta} exp (- \\xi^{2}) d\\xi\n",
    "\\end{align*}\n",
    "****\n",
    "\n",
    "For convenience, the integral $ A (z) $ is tabulated in statistics books: \n",
    "\n",
    "![Normtable](img/img_00/Normtable.png)\n",
    "\n",
    "\n",
    "If $z = 1$, then \n",
    "\n",
    "\\begin{align*}\n",
    "\\large\n",
    "A (1) = \\int_{0}^{1} f(z)dz = 0.3413\n",
    "\\end{align*}\n",
    "\n",
    "$z = 1 $ represents **a value of x exactly one standard deviation greater from the mean **\n",
    "\n",
    "\n",
    "Also, because of symmetry:\n",
    "\n",
    "\\begin{align*}\n",
    "\\large\n",
    "A (-1) = \\int_{0}^{-1} f(z)dz = 0.3413\n",
    "\\end{align*}\n",
    "\n",
    "Due to symmetry, the probability that z lies within -1 and 1 is $2(0.3413)=0.6826$ or $68.26 \\%$ \n",
    "\n",
    "\n",
    "![Onesigma](img/img_00/Onesigma.png)\n",
    "\n",
    "\\begin{align*}\n",
    "\\large\n",
    "P (\\mu - \\sigma < x \\le \\mu + \\sigma) = 68.26 \\%\n",
    "\\end{align*}\n",
    "\n",
    "In other words, **the probability that a measurement lies within $\\pm$ one standard deviation from the mean is 68.26%** or \n",
    "\n"
   ]
  },
  {
   "cell_type": "markdown",
   "metadata": {},
   "source": [
    "### Confidence level \n",
    "\n",
    "We are 68.26% confident that any random measurement of x will lie within $\\pm$ one standard deviation from the mean value\n",
    "\n",
    "In other cases, \n",
    "\n",
    "\\begin{align*}\n",
    "\\large\n",
    "P (\\mu -  2\\sigma < x \\le \\mu + 2\\sigma) = 95.44 \\%\n",
    "\\end{align*}\n",
    "\n",
    "\n",
    "\\begin{align*}\n",
    "\\large\n",
    "P (\\mu -  3\\sigma < x \\le \\mu + 3\\sigma) = 99.74 \\%\n",
    "\\end{align*}\n",
    "\n",
    "\n",
    "#### Summary for confidence levels, according to the empirical rule:\n",
    "\n",
    "- Approximately 68% of the values fall within 1 standard deviation away from the mean in either direction\n",
    "- Approximately 95% of the values fall within 2 standard deviation away from the mean in either direction (AKA \"Two sigma\" engineering confidence level)\n",
    "- Approximately 99.7% of the values fall within 3 standard deviation away from the mean in either direction"
   ]
  },
  {
   "cell_type": "code",
   "execution_count": 23,
   "metadata": {},
   "outputs": [
    {
     "data": {
      "image/png": "[encoded data removed]",
      "text/plain": [
       "<Figure size 720x720 with 1 Axes>"
      ]
     },
     "metadata": {
      "needs_background": "light"
     },
     "output_type": "display_data"
    }
   ],
   "source": [
    "zcont = numpy.linspace ( -3, 3, 100)\n",
    "Normf = ( 1 / numpy.sqrt ( 2 * numpy.pi ) ) * numpy. exp ( ( - (zcont) **2 ) / 2)\n",
    "\n",
    "pyplot.figure ( figsize = (10, 10 ) )\n",
    "pyplot.grid(True)\n",
    "pyplot.scatter (zvalues, fzvalues, label = 'Data')\n",
    "pyplot.plot (zcont, Normf, label = 'Normal PDF', linestyle = '--', color = 'r')\n",
    "pyplot.ylabel ('f(z)', fontsize = font)\n",
    "pyplot.xlabel ('z ', fontsize = font)\n",
    "pyplot. title ( 'Normalized variables', fontsize = font);\n",
    "pyplot.legend ( loc = 'best', fontsize = font)\n",
    "pyplot.yticks ( fontsize=font )\n",
    "pyplot.xticks ( fontsize=font );"
   ]
  },
  {
   "cell_type": "markdown",
   "metadata": {},
   "source": [
    "This agreement indicates that  that **the errors are very nearly random**."
   ]
  },
  {
   "cell_type": "markdown",
   "metadata": {},
   "source": [
    "### Example\n",
    "\n",
    "What is the probability that the temperature lies between the mean value and 33 degrees Celsius?\n",
    "\n",
    "Normalize to obtain z:\n",
    "\n",
    "\\begin{align*}\n",
    "\\large\n",
    "z = \\frac { x - \\mu }{\\sigma} \\approx \\frac { x - \\bar{x} }{S}\n",
    "\\end{align*}"
   ]
  },
  {
   "cell_type": "code",
   "execution_count": 24,
   "metadata": {},
   "outputs": [
    {
     "name": "stdout",
     "output_type": "stream",
     "text": [
      "1.339\n"
     ]
    }
   ],
   "source": [
    "Texample = 33\n",
    "zexample = ( Texample - Tmean ) / Stdeviation\n",
    "print (numpy.round(zexample,3))"
   ]
  },
  {
   "cell_type": "markdown",
   "metadata": {},
   "source": [
    "\\begin{align*}\n",
    "\\large\n",
    "A (z) = \\frac{1}{2} \\ erf ( z \\ / \\sqrt{2} )\n",
    "\\end{align*}"
   ]
  },
  {
   "cell_type": "code",
   "execution_count": 25,
   "metadata": {},
   "outputs": [
    {
     "name": "stdout",
     "output_type": "stream",
     "text": [
      "0.409659\n"
     ]
    }
   ],
   "source": [
    "from scipy.special import erf\n",
    "\n",
    "Aexample = 0.5 * erf ( zexample / numpy.sqrt (2))\n",
    "print (numpy.round(Aexample,6))"
   ]
  },
  {
   "cell_type": "code",
   "execution_count": 26,
   "metadata": {},
   "outputs": [
    {
     "name": "stdout",
     "output_type": "stream",
     "text": [
      "This means that 40.97 % of the measurements are predicted to lie between the mean 31.009 and the given value 33\n"
     ]
    }
   ],
   "source": [
    "Perres = numpy.round(Aexample,4)\n",
    "print('This means that',Perres*100, '% of the measurements are predicted to lie between the mean',Tmean, 'and the given value', Texample)"
   ]
  },
  {
   "cell_type": "markdown",
   "metadata": {},
   "source": [
    "### Confidence level and level of significance\n",
    "\n",
    "**Confidence level, c, ** is defined as the probability that a random variable lies __within__ a specified range of values, called **confidence interval**.\n",
    "\n",
    "**Level of significance, a, ** is defined as the probability that a random variable lies __outside__ of a specified range of values.\n",
    "\n",
    "For example, for confidence level $ c = 95 \\% $ , the level of significance is $ \\alpha = 1 - c = 5 \\% $\n",
    "\n",
    "Both $ \\alpha $ and $c$ represent __probabilities__ or areas under the PDF curve.\n",
    "\n",
    "![Confinte](img/img_00/Confinte.png)"
   ]
  },
  {
   "cell_type": "markdown",
   "metadata": {},
   "source": [
    "# Student's t PDF\n",
    "\n",
    "\n",
    "Similar to Gaussian PDF, but used for smaller sample sizes ( usually when $n < 30 $ ). \n",
    "\n",
    "When $ n $ is small, the sample mean and sample standard deviation may differ from the population mean and population standard deviation by some unknown amount.\n",
    "\n",
    "Thus, $\\mu$ is not known and with the student's t analysis we want to establish some confidence level in predicting $\\mu$.\n",
    "\n",
    "The student's t statistic is defined as \n",
    "\n",
    "\\begin{align*}\n",
    "\\large\n",
    "t = \\frac {\\bar{x} - \\mu}{S /\\sqrt{n}}\n",
    "\\end{align*}"
   ]
  },
  {
   "cell_type": "markdown",
   "metadata": {},
   "source": [
    "\\begin{align*}\n",
    "\\large\n",
    "f (t,df) = \\frac{\\Gamma (\\frac{df +1}{2})}{\\sqrt{\\pi df } \\ \\Gamma (\\frac{df}{2})} \\ {(1 + \\frac{t^2}{df})}^{-(\\frac{df+1}{2})}\n",
    "\\end{align*}"
   ]
  },
  {
   "cell_type": "markdown",
   "metadata": {},
   "source": [
    "### Degrees of freedom , df\n",
    "\n",
    "The number of measurements minus the minimum number of measurements necessary to estimate a statistic.\n",
    "\n",
    "![studentt](img/img_00/studentt.png)"
   ]
  },
  {
   "cell_type": "markdown",
   "metadata": {},
   "source": [
    "### Estimating the population mean with student's t PDF:\n",
    "\n",
    "- For a specified confidence level, calculate the level of significance $\\alpha = 1 - c$\n",
    "- The range of t corresponding to this confidence level is $ -t_{\\alpha / 2} < t \\le t_{\\alpha / 2}$\n",
    "\n",
    "![trange](img/img_00/trange.png)\n",
    "\n",
    "- The probability that t lies within the desired confidence level is \n",
    "\n",
    "\\begin{align*}\n",
    "\\large\n",
    "P ( -t_{\\alpha / 2} < t \\le t_{\\alpha / 2} ) = 1- \\alpha\n",
    "\\end{align*}\n",
    "\n",
    "and we know that \n",
    "\n",
    "\\begin{align*}\n",
    "\\large\n",
    "t = \\frac {\\bar{x} - \\mu}{S /\\sqrt{n}}\n",
    "\\end{align*}\n",
    "\n",
    "Eventually,\n",
    "\n",
    "\\begin{align*}\n",
    "\\large\n",
    "P  \\bigg( \\Big( \\bar{x} - {t}_{a/2} \\frac{S}{\\sqrt{n} }\\Big) \\le \\mu <  \\Big( \\bar{x} + {t}_{a/2} \\frac{S}{\\sqrt{n} }\\Big)\\bigg) = 1- \\alpha\n",
    "\\end{align*}\n",
    "\n",
    "State the final result as \n",
    "\n",
    "\\begin{align*}\n",
    "\\large\n",
    "\\mu = \\bar{x} \\pm {t}_{a/2} \\frac{S}{\\sqrt{n} } \n",
    "\\end{align*}\n",
    "\n",
    "with a confidence level of $1 - \\alpha$\n",
    "\n",
    "In other words, we are confident to a $c= 1 - \\alpha $ level that **the population mean lies within the calculated range.**\n",
    "\n",
    "![ttable](img/img_00/ttable.png)"
   ]
  },
  {
   "cell_type": "markdown",
   "metadata": {},
   "source": [
    "# The $ \\chi^2  $ PDF\n",
    "\n",
    "\n",
    "Used to estimate the confidence interval for the population variance $ \\sigma ^ 2$, in similar fashion as student's t PDF is used to estimate the confidence interval for the population mean $\\mu$.\n",
    "\n",
    "Mathematically, the statistic $ \\chi^2  $  is defined as, \n",
    "\n",
    "\\begin{align*}\n",
    "\\large\n",
    "\\chi^2  = \\frac{\\sum_{i = 1}^{ n }\\big(x_i - \\mu\\big)^{2}}{\\sigma^2}\n",
    "\\end{align*}\n",
    "\n",
    "comparing with the sample standard deviation definition\n",
    "\n",
    "\\begin{align*}\n",
    "\\large\n",
    "S^2  = \\frac{\\sum_{i = 1}^{ n }\\big(x_i - \\bar{x}\\big)^{2}}{n-1}\n",
    "\\end{align*}\n",
    "\n",
    "there is a relationship between them, assuming $ \\mu \\approx \\bar{x} $\n",
    "\n",
    "\\begin{align*}\n",
    "\\large\n",
    "\\chi^2  \\approx ( n - 1 )\\frac{S^2}{\\sigma^2}\n",
    "\\end{align*}\n",
    "\n",
    "The confidence interval for the variance is \n",
    "\n",
    "\\begin{align*}\n",
    "\\large\n",
    "\\big( n - 1 \\big) \\frac{S^2}{{{\\chi^2}_{\\alpha / 2}}} \\le  \\sigma^2 \\le    \\big( n - 1 \\big) \\frac{S^2}{{{\\chi^2}_{1 - \\alpha / 2}}} \n",
    "\\end{align*}\n",
    "\n",
    "![chiplot](img/img_00/chiplot.png)\n",
    "\n",
    "\n",
    "![chitable](img/img_00/chitable.png)"
   ]
  },
  {
   "cell_type": "markdown",
   "metadata": {},
   "source": [
    "# References \n",
    "\n",
    "- McClave, J. T., Sincich, T., & Sincich, T. T. (2003). A first course in statistics. Pearson Education. \n",
    "- Cimbala, J 2008, Basic Statistics,  Lecture notes, Instrumentation, Measurements, and Statistics ME 345, Penn State University."
   ]
  }
 ],
 "metadata": {
  "kernelspec": {
   "display_name": "Python 3",
   "language": "python",
   "name": "python3"
  },
  "language_info": {
   "codemirror_mode": {
    "name": "ipython",
    "version": 3
   },
   "file_extension": ".py",
   "mimetype": "text/x-python",
   "name": "python",
   "nbconvert_exporter": "python",
   "pygments_lexer": "ipython3",
   "version": "3.7.3"
  }
 },
 "nbformat": 4,
 "nbformat_minor": 2
}
