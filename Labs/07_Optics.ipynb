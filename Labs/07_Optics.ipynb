{
 "cells": [
  {
   "cell_type": "markdown",
   "metadata": {},
   "source": [
    "# Laboratory 07 - Optics\n",
    "\n",
    "## MAE 3120, Spring 2020"
   ]
  },
  {
   "cell_type": "markdown",
   "metadata": {},
   "source": [
    "## Grading Rubric\n",
    "\n",
    "Procedures, Results, Plots, Tables - 60%\n",
    "\n",
    "Discussion - 25%\n",
    "\n",
    "Neatness - 15%"
   ]
  },
  {
   "cell_type": "markdown",
   "metadata": {},
   "source": [
    "## Introduction and Background\n",
    "\n",
    "The main objective of this lab is to become familiar with concepts in optical design, and to apply basic design techniques to several model problems. The lab will involve incoherent- and coherent-light sources, lenses, and optical detectors. Intuition gained from these exercises will prepare you for laboratory exercises involving the application of optical techniques.\n",
    "\n",
    "### Thin-Lens Equation\n",
    "\n",
    "The thin-lens equation is given by Smith [1] as\n",
    "\n",
    "$$\\frac{1}{l} + \\frac{1}{l'} = \\frac{1}{f}$$\n",
    "\n",
    "According to the following diagram,\n",
    "\n",
    "<img src=\"img/07_01.png\" width=350 align=\"center\">\n",
    "\n",
    "Where $l$ is the distance from the lens to the object, $l'$ is the distance from the lens to the image, and $f$ is the focal length of the lens. The system is arranged with an unknown lens such that the image is in sharp focus, the conjugates, $l$ and $l'$ can be measured, and the focal length of the lens can be calculated. \n",
    "\n",
    "The magnification of the system can be calculated from the conjugates as\n",
    "\n",
    "$$m = \\frac{l'}{l} = \\frac{h'}{h}$$\n",
    "\n",
    "Where $h$ is the height of the object and $h'$ is the image height. The image height will typically be negative, by convention, where a negative magnification indicates an inverted image. Note that for larger magnifications, the irradiance of the image will decrease.\n",
    "\n",
    "### Grating Dispersion\n",
    "\n",
    "Laser light in general is both monochromatic and spatially-coherent, and these are the reasons the laser is such an important tool in many fields. The spatial coherence of the laser means that the beam is perfectly collimated, as if it had originated infinitely far away. The monochromaticity of the laser is the purity of its wavelength. Because the laser can deliver significant power at such a narrow bandwidth, it is useful in fields ranging from spectroscopy to fiber-optic communications. The wavelength of the laser diode used in this lab can be calculated by measuring the positions of the fringes in the diffraction pattern beyond a grating. The grating equation is given by Metrologic [2] as\n",
    "\n",
    "$$m \\lambda = d \\sin \\theta$$\n",
    "\n",
    "According to the following diagram,\n",
    "\n",
    "<img src=\"img/07_02.png\" width=350 align=\"center\">\n",
    "\n",
    "Where $m$ is the order of the fringe, $\\lambda$ is the wavelength of radiation, $d$ is the grating spacing, and $\\theta$ is the angle of deviation off axis of the diffraction fringe. Now, for the simplified case of $m = 1$, and given small angles, $\\sin \\theta$ can be approximated by $\\theta$, the wavelength of the laser can be calculated using the relation\n",
    "\n",
    "$$\\lambda = d \\frac{x}{z}$$\n",
    "\n",
    "Where $x$ is the deflection of the fringe off of the optical axis, and $z$ is the distance from the grating to the screen.\n",
    "\n",
    "### Prism Dispersion\n",
    "\n",
    "The index of refraction of glass (prism) is dependent upon the wavelength of the radiation; prisms have been used as the basis of simple monochrometers. The dispersion of light by prism is given by Smith [1] as\n",
    "\n",
    "$$d = i_1 - \\alpha + \\arcsin \\left[\\sqrt{n\\lambda^2 - \\sin^2 (i_1)}\\sin (\\alpha) - \\cos (\\alpha) \\sin(i_1)\\right]$$\n",
    "\n",
    "According to the following figure,\n",
    "\n",
    "<img src=\"img/07_03.png\" width=350 align=\"center\">\n",
    "\n",
    "Where $d$ is the final angle of exit of the beam, $i_1$ is the angle of incidence, $\\alpha$ is the characteristic angle of the prism, and $n \\lambda$ is the wavelength-dependent index of refraction of the glass. "
   ]
  },
  {
   "cell_type": "markdown",
   "metadata": {},
   "source": [
    "## Objectives\n",
    "\n",
    "- Learn the mounting and positioning of lenses, based on the thin-lens equation.<br><p></p>\n",
    "\n",
    "- Understand laser coherence and monochromatic aspects by calculating its wavelength based on grating equation.<br><p></p>\n",
    "\n",
    "- Calculation of prism properties (i.e. index of refraction) by using laser"
   ]
  },
  {
   "cell_type": "markdown",
   "metadata": {},
   "source": [
    "## Equipment\n",
    "\n",
    "- 30 W Fiber Optic Illuminator, to be used as a white-light source<br><p></p>\n",
    "\n",
    "- Rulers and protractors<br><p></p>\n",
    "\n",
    "- Three lenses with unknown $f$, double-convex, ∅ = 50.8 mm<br><p></p>\n",
    "\n",
    "- HeNe Laser System, of unknown $\\lambda$<br><p></p>\n",
    "\n",
    "- Holographic, diffraction grating, 1000 lines/mm, with mount<br><p></p>\n",
    "\n",
    "- Dispersing prism, with unknown index, $n$<br><p></p>\n",
    "\n",
    "- Right angle mirror<br><p></p>\n",
    "\n",
    "- 18 inch and 2 m long optical rails"
   ]
  },
  {
   "cell_type": "markdown",
   "metadata": {},
   "source": [
    "## Laser Safety\n",
    "\n",
    "The laser to be used is a relatively safe, low-power, laser pointer. As such, special eye protection is not needed. However, direct, prolonged exposure of the eye to this laser can still cause damage, so common sense and caution should be exercised. The following steps can help provide for a safe lab experience.\n",
    "\n",
    "- The laser should never be aimed directly into a person's eyes.<br><p></p>\n",
    "\n",
    "- The laser beam should be blocked off so that it cannot extend beyond the limits of the individual laboratory section. Dull, non-reflective barriers such as dark-colored paper or stacks of books can be used for this.<br><p></p>\n",
    "\n",
    "- Reflective objects in the area should be covered with cloth or blocked, to prevent secondary reflections in the lab."
   ]
  },
  {
   "cell_type": "markdown",
   "metadata": {},
   "source": [
    "## Procedure\n",
    "\n",
    "### Part I - Imaging an Incoherent Source\n",
    "\n",
    "The goal of this lab is to become proficient in the use of simple lenses. To this end, the illuminator will image the test target onto a viewing screen. In order to properly image the filament, the distances, or conjugates, between the object and lens, and between the lens and screen, must satisfy the thin-lens equation. Using the optical rail provided, experiment with the positioning of the lens versus the source and viewing screen. For each choice of conjugates, a magnification of the image can be calculated. Try a variety of conjugate-distance combinations, and adjust the optical system to be sure the image is in focus at the screen for each combination. Record the results in the table provided, and calculate the magnification (make table for each lens with three attempts). You should find that the calculation for the focal length of the lens is the same in each case; the focal length is a constant property of the lens, not of the system.\n",
    "\n",
    "|  Reading | $l$ (mm) | $l'$ (mm) | Obj. Height (mm) | Im. Height (mm) | Mag. | $f$ (mm) |\n",
    "|----------|----------|-----------|------------------|-----------------|------|----------|\n",
    "| 1        |          |           |                  |                 |      |          |\n",
    "| 2        |          |           |                  |                 |      |          |\n",
    "| 3        |          |           |                  |                 |      |          |\n",
    "\n",
    "### Part II - Characterizing a Coherent Source\n",
    "\n",
    "In this part, the HeNe laser wavelength, $\\lambda$, should be measured by utilizing a diffraction grating. By using the grating equation and given the spatial frequency of the grating to be 1000 lines/mm, the wavelength can be calculated. Carefully measure the position of the first fringe (i.e. for $m=1$ or $m=-1$), and average several reading. A table has been provided for your convenience.\n",
    "\n",
    "|  Reading | $x$ (mm) | $z$ (mm) | $d$ (mm/line) | $\\lambda$ (nm) |\n",
    "|----------|----------|----------|---------------|----------------|\n",
    "| 1        |          |          |               |                |\n",
    "| 2        |          |          |               |                |\n",
    "| 3        |          |          |               |                |\n",
    "\n",
    "### Part III - Measurement of Refractive Index of Prism\n",
    "\n",
    "In this exercise the refractive index of the prism, $n$, will be investigated. A prism can be used to separate or disperse the various frequencies of the signal. Direct the laser through the prism, and carefully measure the various geometric quantities. Then, by knowing the wavelength of radiation which in our case the pointer wavelength is 650 nm, calculate the index of refraction of the prism. You might try different orientation of prism, varying the angle of incidence slightly, to see if the result is repeatable.\n",
    "\n",
    "|  Reading | $i_1$ (°) | $\\alpha$ (°) | $d$ (°) | index $n$ |\n",
    "|----------|-----------|--------------|---------|-----------|\n",
    "| 1        |           |              |         |           |\n",
    "| 2        |           |              |         |           |\n",
    "| 3        |           |              |         |           |"
   ]
  },
  {
   "cell_type": "markdown",
   "metadata": {},
   "source": [
    "# References \n",
    "\n",
    "[1] Smith, W.J. Modern Optical Engineering. McGraw-Hill, New York, 1966.\n",
    "\n",
    "[2] “Laser-Pointer Education Kit,\" Metrologic Instruments, Bellmawr, NJ, 1996."
   ]
  }
 ],
 "metadata": {
  "kernelspec": {
   "display_name": "Python 3",
   "language": "python",
   "name": "python3"
  },
  "language_info": {
   "codemirror_mode": {
    "name": "ipython",
    "version": 3
   },
   "file_extension": ".py",
   "mimetype": "text/x-python",
   "name": "python",
   "nbconvert_exporter": "python",
   "pygments_lexer": "ipython3",
   "version": "3.7.6"
  }
 },
 "nbformat": 4,
 "nbformat_minor": 2
}
