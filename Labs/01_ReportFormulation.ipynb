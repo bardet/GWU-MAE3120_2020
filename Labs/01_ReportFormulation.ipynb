{
 "cells": [
  {
   "cell_type": "markdown",
   "metadata": {},
   "source": [
    "# Laboratory 01 - Report Formulation\n",
    "\n",
    "## MAE 3120, Spring 2020"
   ]
  },
  {
   "cell_type": "markdown",
   "metadata": {},
   "source": [
    "## About the lab groups\n",
    "\n",
    "**2 students per group** for the whole semester. If you need to change your lab partner, please consult with the professor. \n",
    "\n",
    "Create your group and inform the TA of its members.\n",
    "\n"
   ]
  },
  {
   "cell_type": "markdown",
   "metadata": {},
   "source": [
    "## The lab report\n",
    "\n",
    "One of the course's learning objectives is to learn **how to write technical reports and give technical presentations**.\n",
    "\n",
    "Your lab report is a technical report and each group will be required to write one after each experiment in the lab. Lab report is due at the beginning of your next lab session.\n",
    "\n",
    "**Lab reports should be typed and submitted as Jupyter notebooks (no PDF format).**\n",
    "\n",
    "### Per your syllabus:\n",
    "\n",
    "1. Each group must submit a lab report of their own work.  \n",
    "\n",
    "2. They must be typed.\n",
    "\n",
    "3. All ﬁgures must have a caption and be referenced in the text.;\n",
    "4. All equations should be numbered and be referenced in the text. \n",
    "\n",
    "5. Equations should be typed using an equation editor or LaTeX.\n",
    "6. Each reports should contain a minimum of a schematic of the circuit diagram.\n",
    "7. All calculations should include appropriate units (SI), and correct signiﬁcant digits.\n",
    "8. Plots should include labeled axes (with units) and a caption explaining the plot.\n",
    "9. The ﬁrst section of the report should be an abstract which summarizes the results of the lab in one paragraph.\n",
    "10. An appendix listing any computer code used in the lab.\n",
    "\n",
    "### Grading\n",
    "- The results, including tables and plots, account for 60% of the grade.\n",
    "- Discussion questions account for 25% of the grade.\n",
    "- Neatness and grammar account for 15% of the grade."
   ]
  },
  {
   "cell_type": "markdown",
   "metadata": {
    "collapsed": true
   },
   "source": [
    "## This lab\n",
    "\n",
    "The objective of this lab is to cover the basics of report formulation, which include:\n",
    "- The structure of a technical report,\n",
    "- Reporting data with the proper number of significant digits,\n",
    "- Creating and displaying informative graphs and tables\n",
    "\n",
    "\n",
    "\n",
    "## Report formulation\n",
    "\n",
    "The text should give essential information in a concise fashion and avoid unnecessary duplication in text, tables, and figures.\n",
    "\n",
    "### Symbols, Units and Terminology\n",
    "\n",
    "**SI units** must be used throughout the report. More details on how to report SI units can be found at the [NIST Reference on Constants, Units and Uncertainty](https://physics.nist.gov/cuu/index.html).\n",
    "\n",
    "Mathematical symbols should be in roman font, symbols for quantities or variables should be _italicized_ (vectors in __boldface__) and units should given in roman font. \n",
    "\n",
    "When expressing a quantity value, a space should be left between the numerical value and the unit symbol.\n",
    "\n",
    "$ T  = 273 + 27 = 300 \\ $ K \n",
    "\n",
    "\n",
    "$ \\boldsymbol{A} \\cdot \\boldsymbol{B} = \\boldsymbol{C}$\n",
    "\n",
    "\n",
    "### Reporting results\n",
    "\n",
    "Results have little use unless they are reported with the proper number of significant digits and accompanied by meaningful uncertainty.  A brief description of the uncertainties should be given.\n",
    "\n",
    "Here is an example of how results should be reported: \n",
    "\n",
    "Suppose that water velocity is measured as $U$ = 12.1 m/s (3 significant digits), sphere diameter is $D$ = 0.02540 m(4 significant digits), and the water viscosity is $\\nu$ = 0.9980 × $10^{-6}$ $\\mathrm{m^2/s}$ (4 significant digits).\n",
    "\n",
    "\\begin{align*}\n",
    "Re = \\frac{U \\times D}{\\nu} = \\frac{\\big(12.1 \\ \\mathrm{m/s} \\big) \\times \\big(0.02540 \\ \\mathrm{m}\\big)}{\\big(0.9980 × 10^{-6} \\ \\mathrm{m^2/s}\\big)} = 3.07955912 \\times 10^5 \\approx 3.08 \\times 10^5 \n",
    "\\end{align*}\n",
    "\n",
    "or \n",
    "\n",
    "\\begin{align*}\n",
    "Re = \\frac{U \\times D}{\\nu} = \\frac{\\big(12.1 \\ \\mathrm{m/s} \\big) \\times \\big(0.02540 \\ \\mathrm{m}\\big)}{\\big(0.9980 × 10^{-6} \\ \\mathrm{m^2/s}\\big)} = 3.07955912 \\times 10^5 \n",
    "\\end{align*}\n",
    "\n",
    "Which one is the correct way to report the result ? \n",
    "\n",
    "### Equations\n",
    "Equations should be numbered and referred to in the text.\n",
    "\n",
    "### Figures and tables\n",
    "Both tables and figures should have captions and be numbered.\n",
    "\n",
    "### Captions\n",
    "- Figure captions are placed **below** the figure.\n",
    "- Table captions are place **above** the table.\n",
    "- Refer to figures, tables or equations in the text as “in Figure x …, see Table y, …, Eq. 1, etc.”\n",
    "\n",
    "\n",
    "### Presenting data \n",
    "\n",
    "Figures must have labeled axes with proper physical dimensions and units.  Label fonts should be of font size similar to the text font.  \n",
    "\n",
    "If there is a lot of scatter in the data, the individual points should not be connected by straight lines, see Figure 1.\n",
    "\n",
    "<img src=\"img/img_00/incorrectplot.png\" width = 600 height = 600>\n",
    "<center>Figure 1 : Data points connected with line</center>\n",
    "\n",
    "Rather the data points should be left as is or a trend line should be added, see Figure 2. \n",
    "\n",
    "<img src=\"img/img_00/Correctplot.png\" width = 600 height = 600>\n",
    "<center>Figure 2 : Data with trendline added </center>\n",
    "\n",
    "\n",
    "### Tables\n",
    "\n",
    "In tables, units must always be included as part of the captions for each column or row. Special care must be taken when reporting numbers with exponents in tables as a common mistake is easily done.  The tabulated velocity data below is an example:\n",
    "\n",
    "<img src = \"img/img_00/Tables.png\" width = 1000 height = 1000 >\n",
    "\n",
    "### Suggested report format\n",
    "A suggested lab report format includes the following sections: \n",
    "\n",
    " \n",
    "- Title \n",
    "- Abstract \n",
    "- Table of Contents\n",
    "- List of symbols\n",
    "- Introduction\n",
    "- Approach/ Methods\n",
    "- Results \n",
    "- Discussion\n",
    "- Conclusions\n",
    "- References\n",
    "- Appendices"
   ]
  },
  {
   "cell_type": "markdown",
   "metadata": {},
   "source": [
    "## Significant Digits\n",
    "\n",
    "Significant digits is the **number of useful digits in a measurement/calculation**. They  are an important aspect of technical reports, as they imply **precision** in a reported result.\n",
    "\n",
    "### Rules\n",
    "\n",
    "Number of significant digits is determined by the number of digits between and including the most and least significant digits.\n",
    "\n",
    "The leftmost nonzero digit is called the **most significant digit**; the rightmost nonzero digit is called the **least significant digit**.\n",
    "\n",
    "e.g. \n",
    "\n",
    "$ 45543 \\rightarrow $ 5 significant digits\n",
    "\n",
    "If there is a decimal point in the number, then the rightmost digit is the least significant digit, even if it is a zero.\n",
    "\n",
    "e.g. \n",
    "\n",
    "$ 0.000540 \\rightarrow $ 3 significant digits\n",
    "\n",
    "\n",
    "If there is no decimal point, is a zero in the rightmost place significant? \n",
    "\n",
    "e.g. \n",
    "\n",
    "$654320 \\rightarrow $ This is ambiguous and can be avoided by expressing the number in scientific notation\n",
    "\n",
    "$ 654320 \\rightarrow  6.54320 \\times 10^5 $\n",
    "\n",
    "The convention here is that all digits in scientific notation are significant.\n",
    "\n",
    "### Underline notation\n",
    "\n",
    "In case that the number of significant digits is given, we can underline the least significant digit by counting digits from the left.\n",
    "\n",
    "\n",
    "### Round-off rules\n",
    "How to truncate a number to desired length.\n",
    "\n",
    "Examine the digit following the **least significant digit**:\n",
    "\n",
    "- if it is $ < 5 \\rightarrow $ truncate excess digits,  $65\\underline{4},321 \\rightarrow 654,000 $\n",
    "- if it is $ > 5 \\rightarrow $ round up least significant digit,  $65\\underline{4},621 \\rightarrow 655,000 $\n",
    "- if it is =5:\n",
    "  - if least sig dig is odd $\\rightarrow$ Round up,  $65\\underline{3},500 \\rightarrow 654,000$\n",
    "  - if least sig dig is even $\\rightarrow$ Truncate, $65\\underline{4},500 \\rightarrow 654,000$\n",
    "\n",
    "### Addition and subtraction \n",
    "\n",
    "For addition and subtraction, look at the decimal portion (i.e., to the right of the decimal point) of the numbers **only**. Here is what to do:\n",
    "\n",
    "1) Count the number of significant figures in the decimal portion of each number in the problem. \n",
    "\n",
    "2) Add or subtract in the normal fashion.\n",
    "\n",
    "3) Round the answer to the LEAST number of places in the decimal portion of any number in the problem.\n",
    "\n",
    "e.g. \n",
    "\n",
    "$ 14.58 + 0.0137 = 14.5937 \\rightarrow 14.59 $\n",
    "\n",
    "$90.00 + 18.0 + 142.121 = 250.121 \\rightarrow 250.1 $\n",
    "\n",
    "### Multiplication and division \n",
    "\n",
    "The result should have the same number of significant digits as the component with the least number of significant digits.\n",
    "\n",
    "e.g. \n",
    "\n",
    "$ 4.34 \\times 5.4344 = 23.585296 \\rightarrow 23.6 $\n",
    "\n",
    "\n",
    "### Fundamental and physical constants\n",
    "\n",
    "For calculations with fundamental constants or physical constants, we do not use the above rules.\n",
    "\n",
    "e.g. \n",
    "\n",
    "You obtain a measurement of $x$ = 0.325 m and want to multiply it by 2 according to a formula. The result should be 0.650 m and not 0.6 m. You can think of 2 as 2.000.\n",
    "\n",
    "### Unit conversion\n",
    "\n",
    "Assuming that the conversion factors are known _exactly_, the number of significant digits does not change when converting between units.\n",
    "\n",
    "e.g. \n",
    "\n",
    "$ T = 100.0185  $ °C\n",
    "\n",
    "To convert in K,\n",
    "\n",
    " K $ = 273.15 + $ °C $ = 273.15 + 100.0185 = 373.1685 $ K\n",
    "\n",
    "### Calculation error progagation\n",
    "We must be careful about rounding off numbers during sequential analysis of data. All digits should be carried and the final result should be round off according to the rules. \n",
    "\n",
    "Otherwise, we can introduce and propagate systematic error in our calculations and obtain skewed results.\n",
    "\n",
    "\n",
    "### Expressing uncertainty\n",
    "The convention in uncertainty analysis requires the reported value to have the same precision with the associated uncertainty. \n",
    "\n",
    "e.g. \n",
    "\n",
    "$ 2.5 \\pm 0.1 \\ \\mathrm{m/s} $"
   ]
  },
  {
   "cell_type": "markdown",
   "metadata": {},
   "source": [
    "## Histograms\n",
    "\n",
    "![Histogram characteristics](Lab01_img/Histogram.png)\n",
    "\n",
    "Histograms are constructed by divvying up the _n_ measurements of a sample into _J_ **bins or intervals or classes** such that for the first bin \n",
    "\n",
    "\\begin{align*}\n",
    "\\large\n",
    "(\\ j=1 \\ ), \\ x_1 < x \\le x_2,\n",
    "\\end{align*}\n",
    "\n",
    "for the second bin \n",
    "\\begin{align*}\n",
    "\\large\n",
    "(\\ j=2 \\ ), \\ x_2 < x \\le x_3,\n",
    "\\end{align*}\n",
    "\n",
    "etc. \n",
    "\n",
    "The **middle value** of $x$ in bin $j$ is defined as $x_{mid,j}$: \n",
    "\n",
    "E.g. for the second bin $(\\ j=2 \\ )$:\n",
    "\\begin{align*}\n",
    "\\large\n",
    "x_{mid,2} =(\\ x_2 + x_3 \\ )/ \\ 2\n",
    "\\end{align*}\n",
    "\n",
    "The **bin width** is usually constant, although it does not have to be.\n",
    "\n",
    "Eventually, a **bar plot** is made of the frequency - the number of measurements in each bin versus the value of x.\n",
    "\n",
    "\n",
    "### How to determine the number of bins?\n",
    "\n",
    "There are some general rules of thumb for the selection of the number of bins to be used in a histogram.\n",
    "\n",
    "### Sturgis rule\n",
    "\\begin{align*}\n",
    "\\large\n",
    "J = 1 + 3.3 \\log_{10} n\n",
    "\\end{align*}\n",
    "\n",
    "where $n$ is the total number of measurements in the sample and and $J$ is the number of bins or intervals in the histogram\n",
    "\n",
    "### Rice rule\n",
    "\n",
    "\\begin{align*}\n",
    "\\large\n",
    "J = 2n^{1/3}\n",
    "\\end{align*}\n",
    "\n",
    "For small number of $n$ measurements, the two rules yield **similar** results. \n",
    "\n",
    "5 bins is the generally accepted **minimum** number of bins in a histogram.\n",
    "\n",
    "In general, we should use between 5 and 20 bins for a histogram. Of course, we can experiment with the number of bins and choose the one that yields the **most meaningful histogram**."
   ]
  },
  {
   "cell_type": "code",
   "execution_count": 1,
   "metadata": {},
   "outputs": [],
   "source": [
    "# Import NumPy library\n",
    "import numpy as np \n",
    "\n",
    "# Import temperature sample(in Celsius) in an array - 1000 measurements \n",
    "Temp = np.loadtxt(\"data/Temperature_Data.csv\", delimiter = ',', skiprows = 1, usecols = 1, unpack = True) \n",
    "\n",
    "n = np.size(Temp) # Number of measurements of the sample"
   ]
  },
  {
   "cell_type": "code",
   "execution_count": 2,
   "metadata": {},
   "outputs": [],
   "source": [
    "# Sturgis rule \n",
    "def Sturgis(n):\n",
    "    J = int(round(1 + 3.3 * np.log10(n)))    \n",
    "    return J\n",
    "\n",
    "def Rice(n):\n",
    "    J = int(round(2 *(n **(1/ 3))))\n",
    "    return J"
   ]
  },
  {
   "cell_type": "code",
   "execution_count": 3,
   "metadata": {},
   "outputs": [],
   "source": [
    "BRice = Rice(n)\n",
    "BSturgis = Sturgis(n)"
   ]
  },
  {
   "cell_type": "code",
   "execution_count": 4,
   "metadata": {
    "scrolled": false
   },
   "outputs": [
    {
     "data": {
      "image/png": "[encoded data removed]",
      "text/plain": [
       "<Figure size 1296x720 with 2 Axes>"
      ]
     },
     "metadata": {
      "needs_background": "light"
     },
     "output_type": "display_data"
    }
   ],
   "source": [
    "from matplotlib import pyplot\n",
    "import numpy as np\n",
    "%matplotlib inline\n",
    "\n",
    "font = 18\n",
    "pyplot.figure(figsize=(18, 10))\n",
    "Riceplot = pyplot.subplots_adjust(wspace = 0.7)\n",
    "pyplot.subplot(121)\n",
    "pyplot.hist(Temp, bins = BRice, edgecolor = 'white')# You can also specify the bin edges with an array containing them\n",
    "pyplot.ylabel('Frequency' ,fontsize=font)\n",
    "pyplot.xlabel('Temperature, C', fontsize=font)\n",
    "pyplot.title('Bins from Rice rule', fontsize=font)\n",
    "pyplot.yticks(fontsize=font)\n",
    "pyplot.xticks(fontsize=font)\n",
    "Sturgisplot = pyplot.subplot(122)\n",
    "pyplot.hist(Temp, bins = BSturgis, edgecolor = 'white')\n",
    "pyplot.ylabel('Frequency ', fontsize=font)\n",
    "pyplot.xlabel('Temperature, C', fontsize=font)\n",
    "pyplot.title('Bins from Sturgis rule', fontsize=font);\n",
    "pyplot.yticks(fontsize=font)\n",
    "pyplot.xticks(fontsize=font);"
   ]
  },
  {
   "cell_type": "markdown",
   "metadata": {},
   "source": [
    "Another way to build the histogram - This function will generate the bin edges array and the frequency array"
   ]
  },
  {
   "cell_type": "code",
   "execution_count": 5,
   "metadata": {},
   "outputs": [],
   "source": [
    "freq, bin_edges = np.histogram(Temp, bins= 15)"
   ]
  },
  {
   "cell_type": "markdown",
   "metadata": {},
   "source": [
    "Alternatively, we can tailor the bin edges values by creating an array that contains them "
   ]
  },
  {
   "cell_type": "code",
   "execution_count": 6,
   "metadata": {},
   "outputs": [],
   "source": [
    "spec_bin_edges =([28, 29, 30, 31, 32, 33, 34])"
   ]
  },
  {
   "cell_type": "code",
   "execution_count": 7,
   "metadata": {
    "scrolled": false
   },
   "outputs": [
    {
     "data": {
      "image/png": "[encoded data removed]",
      "text/plain": [
       "<Figure size 720x720 with 1 Axes>"
      ]
     },
     "metadata": {
      "needs_background": "light"
     },
     "output_type": "display_data"
    }
   ],
   "source": [
    "Binedges = pyplot.figure(figsize=(10, 10))\n",
    "pyplot.hist(Temp, bins = spec_bin_edges, edgecolor = 'white')\n",
    "pyplot.ylabel('Frequency - number of measurements in each bin', fontsize=font)\n",
    "pyplot.xlabel('Temperature, C', fontsize=font)\n",
    "pyplot.title('Specified bin edges', fontsize=font);\n",
    "pyplot.yticks(fontsize=font)\n",
    "pyplot.xticks(fontsize=font);"
   ]
  },
  {
   "cell_type": "markdown",
   "metadata": {},
   "source": [
    "## References\n",
    "\n",
    "- Dunn, Patrick F. Measurement and data analysis for engineering and science. CRC press, 2014."
   ]
  }
 ],
 "metadata": {
  "kernelspec": {
   "display_name": "Python 3",
   "language": "python",
   "name": "python3"
  },
  "language_info": {
   "codemirror_mode": {
    "name": "ipython",
    "version": 3
   },
   "file_extension": ".py",
   "mimetype": "text/x-python",
   "name": "python",
   "nbconvert_exporter": "python",
   "pygments_lexer": "ipython3",
   "version": "3.7.3"
  }
 },
 "nbformat": 4,
 "nbformat_minor": 2
}
