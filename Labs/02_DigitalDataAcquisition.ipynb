{
 "cells": [
  {
   "cell_type": "markdown",
   "metadata": {},
   "source": [
    "# Laboratory 02 - Introduction to Digital Data Acquisition\n",
    "\n",
    "## MAE 3120, Spring 2020"
   ]
  },
  {
   "cell_type": "markdown",
   "metadata": {},
   "source": [
    "### Grading Rubric\n",
    "\n",
    "Procedures, Results, Plots, Tables - 60%\n",
    "\n",
    "Discussion Questions - 25%\n",
    "\n",
    "Neatness - 15%"
   ]
  },
  {
   "cell_type": "markdown",
   "metadata": {},
   "source": [
    "## Introduction and Background\n",
    "\n",
    "Prior to the 1980s, the oscilloscope and strip-chart recorder represented the most common methods for measurement of time-varying signals. With time PC-based digital data acquisition became standard in most laboratories. By combining high-speed data acquisition cards with graphical software, it is now possible to design complex data acquisition systems with real-time data analysis and plotting features, with minimal programming. The data acquisition hardware converts analog inputs into the digital domain at the specified sampling rate, and the software manipulates and displays the desired output. \n",
    "\n",
    "In this lab we use Python and the NI-DAQmx API for digital data acquisition. Using the ***DAQ*** Jupyter Notebook developed for this class, instructions are issued to the data acquisition hardware, either inside the PC or external to the PC (the hardware we use in our lab is connected through the USB port). The ***DAQ*** can be configured to record data to files, change sampling parameters, and display a live output of your sampled signal. \n",
    "\n",
    "The goal of this tutorial is to provide you with your first experience using the ***DAQ*** notebook to perform data acquisition. You will use the ***DAQ*** to take samples and plot voltage data and to illustrate some limitations of digital data acquisition systems. \n",
    "\n",
    "To help verify that you have configured the ***DAQ*** properly before performing trials, you will learn how to use ***NI MAX*** (a software provided by National Instruments). \n",
    "\n",
    "Ultimately, you will experiment with digital data acquisition and some of its shortcomings. For your report you are expected to save all the data you will acquire in the lab to files and plot them in Python. "
   ]
  },
  {
   "cell_type": "markdown",
   "metadata": {},
   "source": [
    "## Precautions\n",
    "\n",
    "Due to the nature of the A/D conversion process, it is necessary to take several precautions to ensure that the analog signal is adequately represented once it is converted to the digital domain. An experimenter who is not careful can encounter problems such as poor resolution, clipping, and aliasing. The most important factors when sampling a signal are dynamic range, input range, and sampling rate.\n",
    "\n",
    "- The dynamic range of the data acquisition card is the number of discernible levels or bins that the A/D converter can assume. The number of bits outputted by the A/D converter determines the dynamic range; namely, there are $2^N$ available levels or bins for an N-bit A/D converter. For example, a 12-bit A/D converter has a dynamic range of $2^{12}$, or $4096$. It is important to utilize as much of the available dynamic range as possible. \n",
    "\n",
    "- Another potential problem with digital data acquisition is clipping. If a voltage lies beyond the input range of the A/D converter, the signal is clipped. "
   ]
  },
  {
   "cell_type": "markdown",
   "metadata": {},
   "source": [
    "## Equiptment\n",
    "\n",
    "- Computer\n",
    "\n",
    "- Software: NI MAX, Jupyter\n",
    "\n",
    "- Hardware: National Instrument CompactDAQ Data Acquisition System, *NI 9201* DAQ Device\n",
    "\n",
    "- Function/waveform generator, along with appropriate cables\n",
    "\n",
    "- Oscilloscope"
   ]
  },
  {
   "cell_type": "markdown",
   "metadata": {},
   "source": [
    "## Procedure\n",
    "\n",
    "### Part I - Introduction to **NI MAX** and Hardware Configuration\n",
    "\n",
    "In this section, you will use the ***NI MAX*** software to verify that you have properly setup your hardware. The CompactDAQ Data Acquisition System (cDAQ) reads from four input modules. In this lab, we will be using the *NI 9201* module. \n",
    "\n",
    "1. Verify that ***NI MAX*** and appropriate drivers are installed on your computer (see installation instructions if using personal computer). \n",
    "\n",
    "- Ensure the *NI 9201* card is in the furthest left spot on the cDAQ. \n",
    "\n",
    "- Connect the cDAQ to the computer using the USB cable and plug it in to a power source. \n",
    "\n",
    "- ***NI MAX*** may automatically launch after the cDAQ is connected and powered. Open ***NI MAX*** manually if this does not occur. \n",
    "\n",
    "- Select the *Devices and Interfaces* tab under *My System* in ***NI MAX***. There, select the device with a name similar to `NI cDAQ-9174 \"cDAQ1\"`. \n",
    "\n",
    "- Select the first module (`1: NI 9201 \"cDAQ1Mod1\"`). If the *NI 9201* card is not the first module, change its location and then click the \"Refresh\" button at the top. Take note of the *Name* displayed on the right side of the screen (`cDAQ1Mod1`) as you may need this later when configuring the ***DAQ*** program. \n",
    "\n",
    "- Select *Self-Test* from the top right menu. \n",
    "\n",
    "- **TODO, NEED ACTUAL DEVICE CONNECTED**\n",
    "\n",
    "- A low voltage signal should be observed around 0V. This is noise being measured by the device as no voltage source is connected to it. As long as there are no errors here, you can proceed with your data acquisition in the next part of the procedure.\n",
    "\n",
    "- Should you wish to view a live output of the signal from the module at any point, revisit the *Self-Test* screen in ***NI MAX***. \n",
    "\n",
    "### Part II - Digital Data Acquisition\n",
    "\n",
    "In this section, you will use the ***DAQ*** Jupyter Notebook to test limitations of digital data acquisition systems. \n",
    "\n",
    "1. Open the ***DAQ*** Jupyter Notebook located in the *Labs* folder. \n",
    "\n",
    " - In the second cell, you will notice the `acquire` function. This function will be used throughout the course to acquire data using Python. \n",
    " \n",
    " - The doctring provides a simplified explaination of how to use certain variables in the function. A more detailed explaination is provided below. \n",
    " \n",
    " - `acquire` requires two variables to be passed, `N` and `fs`; all other arguments are optional and can be used as needed. To use an optional argument, include the arguments name and the value you wish to assign to it (e.g. `max_channel=7`). \n",
    " \n",
    " - Arguments\n",
    " \n",
    "     - `N (int)`: Number of samples to measure. \n",
    "\n",
    "     - `fs (float)`: Sampling frequency in Hz (Hertz, cycles per second). \n",
    "\n",
    "     - `max_channel (int)`: Maximum voltage channel to read from. If you look at the side of the *NI 9201* cards, you will notice that it lists channels from `ai0` to `ai7`. Setting this to `0` will result in data only being read from the `ai0` channel. Setting this to `7` will result in data being read from channels `ai0`-`ai7`. The default value is `0`. \n",
    "\n",
    "     - `file_out (String)`: Output directory and file name of initial output. This is the name and location of the output file. The default value is `''`, which results in no file output. An example of a valid file name would be `C:\\\\Users\\\\Josh\\\\Downloads\\\\Lab2_0.csv`. All file names **must** end in an underscore followed by a one or two digit number, then the CSV file extension (e.g. `_0.csv`). Do not forget that Python requires the double backslash `\\\\` in Strings.\n",
    "\n",
    "     - `output (String)`: Type of output. `X` is the default value and outputs no file. `N` creates a new file every trial. `R` replaces data from the last trial. `A` appends new data to the last trial's file. If no file exists initially, a file will be created so long as `X` is not selected. \n",
    "\n",
    "     - `time_sep (float)`: Time increment to update live plot in seconds. By default, the live plot updates every `1` second. It cannot update at any faster rate. This value does not need to be changed unless you are acquiring data for a long period of time and/or at a high sampling rate (> 15 seconds). If you are acquiring data for more than 1 minutes, this value should be changed to a number around `30`. \n",
    "\n",
    "     - `zero_bound (bool)`: Determines whether live graph is bounded to 0. By default, this value is `True`, meaning that you will still be able to see the data recorded at 0 seconds while the live plot is updating. If you want to see the data from only the current `time_sep` value, set this to `False`. \n",
    "\n",
    "     - `daq_name (String)`: Name of DAQ card/system. By default, this is `cDAQ1Mod1`. This is the String from *Part I - Step 6*. While you should not need to change this value, if the card you are using is in a different slot, the name may be different. \n",
    " \n",
    " - Example Usage\n",
    " \n",
    "     - 100 samples of data, sampling rate of 1000 Hz, no file output: `acquire(100, 1000)`\n",
    " \n",
    "     - 100 samples of data, sampling rate of 1000 Hz, create a new file after every trial, file location location is 'C:\\Users\\Josh\\Downloads': `acquire(100, 1000, file_out='C:\\\\Users\\\\Josh\\\\Downloads\\\\Lab2_0.csv', output='N')`\n",
    "     \n",
    "     - 300e3 samples of data, sampling rate of 1000 Hz, no file output, refresh the plot every 30 seconds, view only the last 30 seconds of data: `acquire(300e3, 100, time_sep=30, zero_bound=False)`"
   ]
  }
 ],
 "metadata": {
  "kernelspec": {
   "display_name": "Python 3",
   "language": "python",
   "name": "python3"
  },
  "language_info": {
   "codemirror_mode": {
    "name": "ipython",
    "version": 3
   },
   "file_extension": ".py",
   "mimetype": "text/x-python",
   "name": "python",
   "nbconvert_exporter": "python",
   "pygments_lexer": "ipython3",
   "version": "3.7.3"
  }
 },
 "nbformat": 4,
 "nbformat_minor": 2
}
