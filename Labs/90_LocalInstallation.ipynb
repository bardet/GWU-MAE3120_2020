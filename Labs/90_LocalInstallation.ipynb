{
 "cells": [
  {
   "cell_type": "markdown",
   "metadata": {},
   "source": [
    "# Laboratory 90 - Local Installation\n",
    "\n",
    "## MAE 3120, Spring 2020"
   ]
  },
  {
   "cell_type": "markdown",
   "metadata": {},
   "source": [
    "## Background\n",
    "\n",
    "This document explains how to install various software components for the lab section of MAE 3120. These instructions are designed for a computer running Windows 10. There is no guarantee it will work on other operating systems. \n",
    "\n",
    "The **DAQ** Jupyter Notebook cannot be run from a virtual Jupyter server. It must be run on your local machine and therefore requires the installation of Anaconda (or similar softwares). "
   ]
  },
  {
   "cell_type": "markdown",
   "metadata": {},
   "source": [
    "## Installing Anaconda & Jupyter\n",
    "\n",
    "1. Go to [Anaconda's website](https://www.anaconda.com/distribution/#download-section) and download the [Python 3.7](https://repo.anaconda.com/archive/Anaconda3-2019.10-Windows-x86_64.exe) version of the software.<br><br>\n",
    "\n",
    "2. After the download has completed, follow the standard installation instructions. It is recommended that you 'Install for All Users' (requires you to run the installer as an administrator). Note: it may take over 30 minutes to install Anaconda. <br><br>\n",
    "\n",
    "3. Open **Anaconda Navigator** from the Start Menu.<br><br>\n",
    "\n",
    "4. Ensure **Jupyter Notebook** is installed. Click 'Install' if it is not installed.<br><br>\n",
    "\n",
    "5. Launch **Jupyter Notebook**. You will be able to start **Jupyter Notebook** from the Start Menu in the future.<br><br>\n",
    "\n",
    "6. Create a folder in a location of your choice to store files for MAE 3120.<br><br>\n",
    "\n",
    "7. [Download **Fetch**](https://raw.githubusercontent.com/bardet/GWU-MAE3120_2020/master/Fetch.ipynb) and place it in the directory you created.<br><br>\n",
    "\n",
    "8. Run **Fetch** and download the latest versions of all files for MAE 3120. "
   ]
  },
  {
   "cell_type": "markdown",
   "metadata": {},
   "source": [
    "## Installing NI-DAQmx and NI MAX\n",
    "\n",
    "1. [Download the latest version of **NI-DAQmx**](https://www.ni.com/en-us/support/downloads/drivers/download.ni-daqmx.html#333268).<br><br>\n",
    "\n",
    "2. After the download has completed, follow the standard installation instructions. Note: it may take over 30 minutes to install **NI-DAQmx**.<br><br>\n",
    "\n",
    "3. Verify you have installed **NI MAX** by searching for it in the Start Menu. If it does not appear, follow [these instructions](https://knowledge.ni.com/KnowledgeArticleDetails?id=kA00Z000000P9tuSAC&l=en-US) to troubleshoot. "
   ]
  },
  {
   "cell_type": "markdown",
   "metadata": {},
   "source": [
    "## Installing NI-DAQmx API for Python\n",
    "\n",
    "1. Launch **Command Prompt** as an administrator.<br><br>\n",
    "\n",
    "2. Enter the following command: `python -m pip install --upgrade pip`<br><br>\n",
    "\n",
    "3. Once the installation of ***pip*** is complete, enter the following command: `pip install nidaqmx`\n",
    "\n",
    "  - If you receive an error message, enter the following command: `python -m pip install nidaqmx`<br><p></p>\n",
    "  \n",
    "4. If you still experience errors after attempting this installation, reach out to the Teaching Assistant or [email Josh](mailto:joshglott@gwu.edu)."
   ]
  },
  {
   "cell_type": "markdown",
   "metadata": {},
   "source": [
    "## Changing the default directory to launch Jupyter Notebook (optional)\n",
    "\n",
    "1. Search for **Jupyter Notebook (Anaconda3)** in the Start Menu.<br><br>\n",
    "\n",
    "2. Right click the icon and click 'Open file location'.<br><br>\n",
    "\n",
    "3. Right click the **Jupyter Notebook (Anaconda3)** shortcut and click 'Properties'.<br><br>\n",
    "\n",
    "4. In the 'Target' field, change the text `\"%USERPROFILE%\"` to your directory of choice. \n",
    "\n",
    "  - Example end portion of 'Target' field: `jupyter-notebook-script.py \"C:\\Users\\Josh\\Documents\\Jupyter\"`<br><p></p>\n",
    "  \n",
    "5. A Jupyter server will now run in your selected directory whenever you launch **Jupyter Notebook (Anaconda3)** from the Start Menu. "
   ]
  }
 ],
 "metadata": {
  "kernelspec": {
   "display_name": "Python 3",
   "language": "python",
   "name": "python3"
  },
  "language_info": {
   "codemirror_mode": {
    "name": "ipython",
    "version": 3
   },
   "file_extension": ".py",
   "mimetype": "text/x-python",
   "name": "python",
   "nbconvert_exporter": "python",
   "pygments_lexer": "ipython3",
   "version": "3.7.4"
  }
 },
 "nbformat": 4,
 "nbformat_minor": 2
}
