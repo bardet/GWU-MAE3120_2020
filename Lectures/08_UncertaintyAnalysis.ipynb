{
 "cells": [
  {
   "cell_type": "markdown",
   "metadata": {},
   "source": [
    "# 08 Uncertainty Analysis\n",
    "\n",
    "## Flow Meter Calibration \n",
    "\n",
    "It is desired to use a Omega FMA-A2000 series mass flow meter in gas flow experiment.  The specifications for this flow meter are:\n",
    "(http://www.omega.com/pptst/FMA1600.html)\n",
    "\n",
    "> accuracy = 1.0 % of reading\n",
    "\n",
    "> repeatability = 0.2 % of reading\n",
    "\n",
    "However, the flow meter accuracy is too low for our application and one decides to calibrate it with a flow calibrator that has an accuracy of 0.4 % of reading.\n",
    "\n",
    "> What will be the accuracy of the calibrated instrument?\n",
    "\n",
    "\n",
    "## Pressure Measurement\n",
    "\n",
    "A pressure transducer is connected to a digital data-acquisition board on a computer.  The characteristics of the pressure transducer and the data-acquisition system (DAS) are given below.  All uncertainties are given at 95 % confidence level.  \n",
    "The environment temperature is uncertain by $\\pm 10^\\circ$C.\n",
    "\n",
    "\n",
    "> Pressure Transducer Characteristics: \n",
    "\n",
    "Range: 0-1,000 kPa \n",
    "\n",
    " Output: 0-5 V \n",
    "\n",
    " Linearity: $\\pm 0.25$ %FS \n",
    "\n",
    " Repeatability: $\\pm 0.06$ %FS \n",
    "\n",
    " Thermal-stability error: $\\pm 0.01$ %FS/$^\\circ$C  \n",
    "\n",
    "> DAS Characteristics:\n",
    "\n",
    " Number of bits: 10 bits\n",
    "\n",
    " Input range: $0-10,\\, 0-1,\\, 0-0.1,\\, 0-0.01$ V\n",
    "\n",
    " Gain error: $\\pm 2$ LSD\n",
    "\n",
    " Linearity: $\\pm 2$ LSD"
   ]
  }
 ],
 "metadata": {
  "kernelspec": {
   "display_name": "Python 3",
   "language": "python",
   "name": "python3"
  },
  "language_info": {
   "codemirror_mode": {
    "name": "ipython",
    "version": 3
   },
   "file_extension": ".py",
   "mimetype": "text/x-python",
   "name": "python",
   "nbconvert_exporter": "python",
   "pygments_lexer": "ipython3",
   "version": "3.7.3"
  }
 },
 "nbformat": 4,
 "nbformat_minor": 2
}
