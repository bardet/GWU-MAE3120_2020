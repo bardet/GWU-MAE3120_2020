{
 "cells": [
  {
   "cell_type": "markdown",
   "metadata": {},
   "source": [
    "# Glossary\n",
    "\n",
    "\n",
    "\\begin{array}{l l }\n",
    "\\text{accuracy} & \\\\\n",
    "\\text{bandwidth} & \\\\\n",
    "\\text{capacity} &  \\\\\n",
    "\\text{cutoff frequency} & \\\\\n",
    "\\text{data} & \\\\\n",
    "\\text{distortion} & \\\\\n",
    "\\text{error} & \\\\\n",
    "\\text{filter} & \\\\\n",
    "\\text{frequency} & \\text{radial/angular frequency vs frequency} \\\\\n",
    "\\text{inertia} & \\\\\n",
    "\\text{information} & \\\\\n",
    "\\text{knowledge} & \\\\\n",
    "\\text{precision} & \\\\\n",
    "\\text{pseudo-static} & \\\\\n",
    "\\text{random} & \\\\\n",
    "\\text{resolution} & \\\\\n",
    "\\text{sensitivity} & \\text{Also called process gain.  It is the change in the output $y$ induced by a unit change in the input $x$.}\\\\\n",
    "\\text{static} & \\\\\n",
    "\\text{steady-state} & \\\\\n",
    "\\text{time constant} & \\text{Time necessary for system to reach steady state.}\\\\\n",
    "\\text{transient} & \\\\\n",
    "\\text{uncertainty} & \\\\\n",
    "\\text{wisdom} & \\\\\n",
    "\\end{array}\n",
    "\n"
   ]
  },
  {
   "cell_type": "code",
   "execution_count": null,
   "metadata": {},
   "outputs": [],
   "source": []
  }
 ],
 "metadata": {
  "kernelspec": {
   "display_name": "Python 3",
   "language": "python",
   "name": "python3"
  },
  "language_info": {
   "codemirror_mode": {
    "name": "ipython",
    "version": 3
   },
   "file_extension": ".py",
   "mimetype": "text/x-python",
   "name": "python",
   "nbconvert_exporter": "python",
   "pygments_lexer": "ipython3",
   "version": "3.6.5"
  }
 },
 "nbformat": 4,
 "nbformat_minor": 2
}
