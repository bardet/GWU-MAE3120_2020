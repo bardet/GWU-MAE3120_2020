{
 "cells": [
  {
   "cell_type": "markdown",
   "metadata": {},
   "source": [
    "# Signal conditioning\n",
    "We are now going to see the chainlink to conduction the signals before either the data acquisition or the data analysis.  Conditioning means for example correcting the signals from noise due to electromagnetic noise for example."
   ]
  },
  {
   "cell_type": "markdown",
   "metadata": {},
   "source": [
    "## Review of electronics\n",
    "Let's start with passive devices first.\n",
    "\n",
    "Most of the signals of interest for us as AC (ie time dependent). \n",
    "\n",
    "The instantaneous power of an electrical signal is $P(t) = V(t) I(t)$.  The average power becomes:\n",
    "\\begin{align*}\n",
    "<P> & = \\frac{1}{T} \\int_0^T V(t') I(t') dt' \\\\\n",
    "\\end{align*}\n",
    "\n",
    "Energy stored in an electrical component:\n",
    "\\begin{align*}\n",
    "E = \\int_{0}^t V(t') I(t') dt'\n",
    "\\end{align*}\n",
    "\n",
    "\n",
    "\n",
    "### Resistor\n",
    "\\begin{align*}\n",
    "V = RI\n",
    "\\end{align*}\n",
    "_Averaged power dissipated by a resistor_ \n",
    "\\begin{align*}\n",
    "<P> & = \\frac{1}{T} \\int_0^t V(t') I(t') dt' \\\\\n",
    "    & = \\frac{V_{RMS}^2}{R} \\\\\n",
    "    & = R I_{RMS}^2\n",
    "\\end{align*}\n",
    "\n",
    "__RMS defintion__\n",
    "\\begin{align*}\n",
    "V_{RMS} & = \\sqrt{\\frac{1}{T} \\int_0^t V(t')^2 dt'}\\\\\n",
    "\\end{align*}\n",
    "\n",
    "We now know from Fourier analysis, that a well behaved signal can be decomposed as a some of sinusoidal waves.  It is therefore convenient to introduce a new definition of the amplitude of a signal that is not related to the actual amplitude of the signal, but to the average power carried by the harmonic, the RMS amplitude.\n",
    "\n",
    "RMS of a sinusoid $V(t) = V_0 \\cos (\\omega t + \\phi )$:\n",
    "\\begin{align*}\n",
    "V_{RMS}^2 & = \\frac{1}{T} \\int_0^t \\left(V_0 \\cos (\\omega t' + \\phi) \\right)^2 dt'\\\\\n",
    "& = V_0^2 \\frac{1}{2\\pi} \\int_0^{2\\pi} \\cos^2(x) dx\\\\\n",
    "& = \\frac{V_0^2}{2} \\\\\n",
    "V_{RMS} & = \\frac{V_0}{\\sqrt{2}}\n",
    "\\end{align*}\n",
    "\n",
    "$V_0$ is the amplitude of the sinusoidal signal, $V_{RMS}$ is the equivalent amplitude to the average power of the signal, $V_{pp} = 2 V_0$ is the peak to peak amplitude.\n",
    "\n",
    "### Capacitor\n",
    "<img src=\"img/Capacitor.png\" width=\"240\">\n",
    "\\begin{align*}\n",
    "I = C \\frac{dV}{dt}\n",
    "\\end{align*}\n",
    "_Energy stored in a capacitor_ $E = 1/2 CV^2$\n",
    "\n",
    "\n",
    "### Inductor\n",
    "<img src=\"img/Inductor.png\" width=\"240\">\n",
    "\\begin{align*}\n",
    "V = L \\frac{dI}{dt}\n",
    "\\end{align*}\n",
    "_Energy stored in an inductor_ $E = 1/2 LI^2$\n",
    "\n",
    "### Impedance\n",
    "\\begin{align*}\n",
    "V = Z I\n",
    "\\end{align*}\n",
    "> resistor: \n",
    "\\begin{align*}\n",
    "Z=R\n",
    "\\end{align*}\n",
    "\n",
    "> capacitor:\n",
    "\\begin{align*}\n",
    "Z=\\frac{1}{i\\omega C}\n",
    "\\end{align*}\n",
    "\n",
    "> inductor:\n",
    "\\begin{align*}\n",
    "Z=i \\omega L\n",
    "\\end{align*}\n",
    "\n",
    "### Diode\n",
    "It allows current to flow only in one direction (forward biased), by impeding the current to flow in the other direction (reverse biased).\n",
    "\n",
    "__Half-Wave rectifier__\n",
    "\n",
    "<img src=\"img/HalfWaveRectifier.png\" width=\"240\">\n",
    "\n",
    "<img src=\"img/TimeResponseHalfWaveRectifier.png\" width=\"240\">\n",
    "\n",
    "\n",
    "### Examples of circuits\n",
    "__Optimal load__\n"
   ]
  },
  {
   "cell_type": "markdown",
   "metadata": {},
   "source": [
    "## Filters\n",
    "Filters aim to remove part of the signal/voltage (ie the harmonic(s)) that is unwanted.\n",
    "\n",
    "We are going to start with passive filters, ie they do not involve a powered circuit, and then we will see active filters, such as those built with operational amplifiers.\n",
    "\n",
    "The __gain__ of a filter is defined as the ratio of output to the input powers.  In electronics, remember that $P\\approx V^2$, so gain is also expressed to as a the ratio of output to input ampitudes:\n",
    "\\begin{align*}\n",
    "G = \\frac{|V_{out}|}{|V_{in}|}\n",
    "\\end{align*}\n",
    "For a filter, it ranges between 0 and 1.  It is commonly plotted in log scale (Bode plots). The gain is best ploted as gain vs frequency.  Here is a diagram for an ideal filter:\n",
    "\n",
    "<img src=\"img/IdealLPFilter.png\" width=\"240\">\n",
    "\n",
    "The __cutoff frequency__, $f_{cutoff}$, is the dividing frequency over which the filter changes behavior.\n",
    "\n",
    "Due the typically the broad range of frequencies of interest and the need to better evaluate attenuation, filter diagram are best plotted with Bode plots that are log-log instead of linear-linear.\n",
    "\n",
    "There are four types of filters:\n",
    "> Low-pass\n",
    "\n",
    "> High-pass\n",
    "\n",
    "> Band-pass\n",
    "\n",
    "> Band-stop\n",
    "\n",
    "Let's start with circuits for passive filters and let's analyse them.  Passive filters are made only of resistors, capacitors, and inductors.  \n",
    "\n",
    "### First order passive low-pass filter\n",
    "This simple circuit is created with just a resistor and an capacitor.\n",
    "\n",
    "<img src=\"img/LPRCFilter.png\" width=\"240\">\n",
    "\n",
    "\\begin{align*}\n",
    "V_{out} & = \\left( \\frac{1/(i \\omega C)}{R + 1/(i \\omega C)} \\right) V_{in} \\\\\n",
    " & = \\left( \\frac{1}{1 + i \\omega RC} \\right) V_{in}\n",
    "\\end{align*}\n",
    "The cutoff frequency is:\n",
    "\\begin{align*}\n",
    "\\omega_{cutoff} & = \\frac{1}{RC}\\\\\n",
    "f_{cutoff} = & \\frac{\\omega_{cutoff}}{2 \\pi} = \\frac{1}{2\\pi RC}\n",
    "\\end{align*}\n",
    "\n",
    "This equation looks very similar to the equation for the sinusoidal response of a first order dynamic system, just using complex notation. \n",
    "\n",
    "Gain:\n",
    "\\begin{align*}\n",
    "G & = \\frac{|V_{out}|}{|V_{in}|}\\\\\n",
    "& = \\frac{1}{\\sqrt{1+ \\left( \\frac{\\omega}{\\omega_{cutoff}}\\right)^2 }} = \\frac{1}{\\sqrt{1+ \\left( \\frac{f}{f_{cutoff}}\\right)^2 }}\n",
    "\\end{align*}\n",
    "\n",
    "Phase shift:\n",
    "\\begin{align*}\n",
    "\\phi & = \\arctan \\left( \\frac{\\text{imaginary component}}{\\text{real component}} \\right) \\\\\n",
    "& = -\\arctan \\left( \\frac{\\omega}{\\omega_{cutoff}} \\right)\n",
    "\\end{align*}\n",
    "\n",
    "<img src=\"img/1stLPFBodePlot.png\" width=\"480\">\n",
    "\n",
    "Output lags the input.\n",
    "\n",
    "_exercise_\n",
    "\n",
    ">Noise at 1000 Hz is superimposed on a “carrier” frequency of 10 Hz. It is desired to apply a first-order passive low-pass filter to remove the noise so that only the carrier signal remains.\n",
    "\n",
    ">>(a) Choose the cutoff frequency of the low-pass filter. "
   ]
  },
  {
   "cell_type": "code",
   "execution_count": 7,
   "metadata": {},
   "outputs": [
    {
     "name": "stdout",
     "output_type": "stream",
     "text": [
      "Gain noise 0.09950371902099892\n",
      "Gain carrier 0.9950371902099893\n",
      "phase carrier -5.710593137499643  deg\n"
     ]
    }
   ],
   "source": [
    "import numpy\n",
    "f_carrier = 10.\n",
    "f_noise = 1000.\n",
    "f_c = 100.\n",
    "G_noise = 1/numpy.sqrt(1+(f_noise/f_c)**2)\n",
    "G_carrier = 1/numpy.sqrt(1+(f_carrier/f_c)**2)\n",
    "phi_carrier = - numpy.arctan(f_carrier/f_c) *180/numpy.pi\n",
    "\n",
    "print('Gain noise', G_noise)\n",
    "print('Gain carrier', G_carrier)\n",
    "print( 'phase carrier', phi_carrier, ' deg')"
   ]
  },
  {
   "cell_type": "markdown",
   "metadata": {},
   "source": [
    ">>(b) If a capacitor with capacitance of 0.10 $\\mu$F is available, what resistor should be used? "
   ]
  },
  {
   "cell_type": "code",
   "execution_count": 2,
   "metadata": {},
   "outputs": [
    {
     "name": "stdout",
     "output_type": "stream",
     "text": [
      "R  15915.494309189533 Ohm\n"
     ]
    }
   ],
   "source": [
    "R = 1/(2*numpy.pi*0.1E-6*100)\n",
    "print('R ', R, 'Ohm')"
   ]
  },
  {
   "cell_type": "markdown",
   "metadata": {},
   "source": [
    ">>(c) How much of the noise is reduced by this filter?"
   ]
  },
  {
   "cell_type": "code",
   "execution_count": 3,
   "metadata": {},
   "outputs": [
    {
     "name": "stdout",
     "output_type": "stream",
     "text": [
      "10.04987562112089\n"
     ]
    }
   ],
   "source": [
    "print(1/G_noise)"
   ]
  },
  {
   "cell_type": "markdown",
   "metadata": {},
   "source": [
    "The gain is commonly expressed in dB, $G_{dB} = 20 \\log_{10}\\left( \\frac{|V_{out}|}{|V_{in}|} \\right) = 20 \\log_{10}(G)$.\n",
    "\n",
    "### First order passive high-pass filter\n",
    "\n",
    "<img src=\"img/HPRCFilter.png\" width=\"240\">\n",
    "\n",
    "\n",
    "\\begin{align*}\n",
    "\\frac{V_{out}}{V_{in}} = \\frac{i \\omega RC}{1 + i \\omega RC} \n",
    "\\end{align*}\n",
    "\n",
    "\\begin{align*}\n",
    "f_{cutoff} = \\frac{\\omega_{cutoff}}{2 \\pi} = \\frac{1}{2\\pi RC}\n",
    "\\end{align*}\n",
    "\n",
    "Gain:\n",
    "\\begin{align*}\n",
    "G = \\frac{1}{\\sqrt{1+ \\left( \\frac{f_{cutoff}}{f}\\right)^2 }}\n",
    "\\end{align*}\n",
    "\n",
    "Phase:\n",
    "\\begin{align*}\n",
    "\\phi = \\arctan \\left( \\frac{\\omega_{cutoff}}{\\omega} \\right)\n",
    "\\end{align*}\n",
    "\n",
    "<img src=\"img/1stHPFBodePlot.png\" width=\"480\">\n",
    "\n",
    "Output leads the input.\n",
    "\n",
    "### Higher order low-pass filter\n",
    "\n",
    "With passive devices, one can easily build a $2^{nd}$ order filter ($RLC$ components).  Higher order filters are built using op-amps, they are active filters.\n",
    "\n",
    "In general for a Butterworth low-pass filter of order $n$, the gain is:\n",
    "\\begin{align*}\n",
    "G = \\frac{1}{\\sqrt{1+ \\left( \\frac{f}{f_{cutoff}}\\right)^{2n} }}\n",
    "\\end{align*}\n",
    "\n",
    "<img src=\"img/HighOrderLPFilter.png\" width=\"480\">\n",
    "\n",
    "Higher order filters have much higher roll-off rate: the higher frequencies get attenuated much faster. A first-order filter has an attenuation rate of 20 dB/decade (or 8 dB/octave).  A filter of order $n$ has an attenuation rate of $20 \\times n$ dB/decade."
   ]
  },
  {
   "cell_type": "markdown",
   "metadata": {},
   "source": [
    "_exercise_\n",
    "\n",
    ">One is interested in filtering 1 000 Hz noise with filter with cutoff frequency of $f_{cutoff} = 50$ Hz.  What would be the attenuation of this harmonic with Butterworth filters of $1^{st}, 2^{nd}, \\text{and } 4^{th}$ orders.  Express the results in percentage and in decibel."
   ]
  },
  {
   "cell_type": "code",
   "execution_count": 8,
   "metadata": {},
   "outputs": [
    {
     "name": "stdout",
     "output_type": "stream",
     "text": [
      "1st order  0.04993761694389223\n",
      "2nd order  0.0024999921875366207\n",
      "4th order  6.24999999987793e-06\n"
     ]
    }
   ],
   "source": [
    "f = 1000\n",
    "f_c = 50\n",
    "G_1 = 1/numpy.sqrt(1+(f/f_c)**(2*1))\n",
    "G_2 = 1/numpy.sqrt(1+(f/f_c)**(2*2))\n",
    "G_4 = 1/numpy.sqrt(1+(f/f_c)**(2*4))\n",
    "print('1st order ', G_1)\n",
    "print('2nd order ', G_2)\n",
    "print('4th order ', G_4)"
   ]
  },
  {
   "cell_type": "markdown",
   "metadata": {},
   "source": [
    "## Operational Amplifiers\n",
    " \n",
    "<img src=\"img/Op-Amp_General.png\" width=\"240\">\n",
    "\n",
    "### Open-loop operation\n",
    "\\begin{align*}\n",
    "V_{out} = A \\left( V_{in}(+) - V_{in}(-) \\right)\n",
    "\\end{align*}\n",
    "$A$: open-loop gain\n",
    "\n",
    "_exercise_\n",
    "\n",
    ">The open-loop gain of an op-amp is $A = 1 \\times 10^6$. The high supply voltage $V^+_{supply} = 15.0\\text{ V}$. The op-amp saturates at 13.9 V. Calculate the input voltage difference (Vp − Vn) that will cause saturation when the op-amp is operated in an open-loop configuration."
   ]
  },
  {
   "cell_type": "markdown",
   "metadata": {},
   "source": [
    "### Closed-loop/feedback operation\n",
    "In practice, to avoid saturation, most op-amps are used in closed loop operation.  For an ideal op-amp, this forces to have $V_in(+) \\sim V_in(-)$ for an ideal op-amp.  We will see more on this later.\n",
    "\n",
    "__Real Op-Amp__\n",
    "\\begin{align*}\n",
    "A_0 & \\sim 10^6\\\\\n",
    "f_0 & \\sim 10^6 \\text{ Hz}\\\\\n",
    "R_{in} & \\sim 10^6 \\Omega \\\\\n",
    "R_{out} & \\sim 1 \\Omega \\\\\n",
    "\\end{align*}\n",
    "\n",
    "__Ideal Op-Amp Rules__\n",
    "\\begin{align*}\n",
    "A & = \\infty\\\\\n",
    "R_{in} & = \\infty \\\\\n",
    "R_{out} & = 0 \\\\\n",
    "I_{in} & =0 \\\\\n",
    "V_{in}(+) & = V_{in}(-)\n",
    "\\end{align*}\n",
    "\n",
    "\n",
    "### $\\times 1$ Buffer\n",
    "\n",
    "<img src=\"img/Buffer.png\" width=\"240\">\n",
    "\n",
    "\\begin{align*}\n",
    "V_{out} & =  V_{in} \\\\\n",
    "R_{out} & = 0 \\\\\n",
    "R_{in} & = \\infty\n",
    "\\end{align*}\n",
    "\n",
    "### Inverting Amplifier\n",
    "\n",
    "<img src=\"img/InvertingAmp.png\" width=\"240\">\n",
    "\n",
    "\\begin{align*}\n",
    "V_{out} = - \\frac{R_2}{R_1} V_{in}\n",
    "\\end{align*}\n",
    "\n",
    "_exercise_\n",
    "\n",
    "> You have access to op-amps and many $10\\text{ k}\\Omega$.  Show how these components can be used to double the voltage of an input signal. Use inverting circuits, and draw the circuit diagram.\n",
    "\n",
    "\n",
    "### Non-Inverting Amplifier\n",
    "\n",
    "<img src=\"img/Non-InvertingAmp.png\" width=\"240\">\n",
    "\n",
    "\\begin{align*}\n",
    "V_{out} = & \\left( 1+ \\frac{R_2}{R_1} \\right) V_{in}\n",
    "\\end{align*}\n",
    "\n",
    "> You have access to op-amps and many $10\\text{ k}\\Omega$.  Show how these components can be used to double the voltage of an input signal. Use non-inverting circuits, and draw the circuit diagram.\n",
    "\n",
    "### Differencing Amplifier\n",
    "\n",
    "<img src=\"img/DifferencingAmp.png\" width=\"240\">\n",
    "\n",
    "\\begin{align*}\n",
    "V_{out} =  \\frac{R_2}{R_1} \\left( V_{in}(+) - V_{in}(-) \\right) \n",
    "\\end{align*}\n",
    "\n",
    "### First-order, active, low-pass, inverting filter\n",
    "\n",
    "<img src=\"img/ActiveLPFilter.png\" width=\"240\">\n",
    "\\begin{align*}\n",
    "\\frac{V_{out}}{V_{in}} = & -  \\frac{R_2}{R_1} \\frac{1}{1+i \\omega R_2 C} \\\\\n",
    "= & -  \\frac{R_2}{R_1} \\frac{1}{1+i \\frac{f}{f_{cutoff}}} \\\\\n",
    "\\text{with } f_{cutoff} = \\frac{1}{2\\pi R_2 C} \\\\\n",
    "\\end{align*}\n",
    "\n",
    "### Non-inverting Schmitt Trigger\n",
    "We saw this circuit in the module on digital data acquisition.  It has a hysteresis by design which is accomplished with the positive feedback loop.\n",
    "\n",
    "<img src=\"img/SchmittTrigger_ciruit.png\" width=\"240\">\n",
    "\n",
    "<img src=\"img/SchmittTrigger.png\" width=\"240\">\n",
    "\n",
    "<img src=\"img/TTL_withNoise.png\" width=\"360\">\n",
    "\n",
    "### Real op-amps effects\n",
    "#### Common Mode Rejection Ratio\n",
    "\n",
    "#### Gain-Bandwidth Product, GBP\n",
    "Internal cutoff frequency: $f_c$ or bandwidth\n",
    "$G_{theory}$: gain of the circuit under consideration\n",
    "\n",
    "GBP is constant: $GBP \\sim 1$ MHz.\n",
    "\\begin{align*}\n",
    "GBP = G_{theory} \\times f_c\n",
    "\\end{align*}\n",
    "\n",
    "At very high frequency op-amp acts like a low pass filter.\n",
    "\n",
    "\n",
    "<img src=\"img/GBP-741.png\" width=\"240\">\n",
    "\n"
   ]
  },
  {
   "cell_type": "markdown",
   "metadata": {},
   "source": [
    "_exercise_\n",
    "\n",
    ">One wishes to measure a pressure pulse with a very sensitive pressure transducer.  Unfortunately, the voltage output of the pressure transducer is on the order of $\\pm 5$ mV and the smallest range of our Data Acquisition board is $\\pm 100$ mV.  \n",
    "\n",
    ">>To utilize the most of our DAQ board dynamic range, and hence increase our resolution, you wish to use an amplifier.  What would be the gain you would select?  \n",
    "\n",
    ">Because experiments are never easy, we have high-power electrical components just next to the DAQ system, which create a lot of electromagnetic noise.\n",
    "\n",
    ">>Will you choose an inverting or a non-inverting amplifier in this experiment?  Explain why?  (hint: here you probably want to maximize your signal to noise ratio, SNR).\n"
   ]
  },
  {
   "cell_type": "markdown",
   "metadata": {},
   "source": [
    "> One wishes to measure a impulse loading created by a detonation (i.e. a fast transient) with a pressure transducer.  The signal needs to be amplified by a factor of 100 to measure this phenomena of frequency 20,000 Hz.  The gain product bandwidth $GBP = 1$ MHz, of the 741 op-amps we have available in the lab.  \n",
    "\n",
    ">>What kind of circuit will you use, i.e. how many amplifiers? Explain why?\n",
    "\n",
    ">> Will you use inverting or non-inverting amplifiers? Justify why?\n",
    "\n"
   ]
  },
  {
   "cell_type": "markdown",
   "metadata": {},
   "source": [
    "> A signal contains a frequency component at 100 Hz with amplitude 3.50 V, but there is also some undesired\n",
    "noise in the signal at 15,200 Hz, amplitude 0.20 V. The DC offset is negligible. You are not aware of the\n",
    "noise, so you sample the signal at a sampling frequency of 512 Hz and collect 4,096 data points with an 16-bit DAQ system with a range of $\\pm 5$ V."
   ]
  },
  {
   "cell_type": "code",
   "execution_count": 5,
   "metadata": {},
   "outputs": [
    {
     "name": "stdout",
     "output_type": "stream",
     "text": [
      "7.62939453125e-05\n",
      "0.0003814697265625\n"
     ]
    }
   ],
   "source": [
    "Q = 10/2**17\n",
    "print(Q)\n",
    "\n",
    "A_noise = 0.2 #V\n",
    "\n",
    "G_filter = Q/A_noise\n",
    "\n",
    "print(G_filter)"
   ]
  },
  {
   "cell_type": "markdown",
   "metadata": {},
   "source": [
    ">>What is the frequency resolution of this signal?\n",
    "\n",
    ">> What is the folding frequency of the resulting frequency spectrum?\n",
    "\n",
    ">> You wish to add an anti-aliasing filter to the digital data acquisition system. The anti-aliasing filter is based on a first order low-pass filter.  Select the cutoff frequency of the filter, justify why.\n",
    "\n",
    ">> Estimate the amplitude of the filtered noise, as well as phase and amplitude of the original signal\n",
    "\n",
    ">> How does this amplitude compare to the DAQ quantization error? \n",
    "\n",
    ">> Ideally, one wishes to make the noise on the same order than the quantization error. What would be the order of the filter necessary to do so?"
   ]
  },
  {
   "cell_type": "markdown",
   "metadata": {},
   "source": [
    "\n",
    "\n",
    "<img src=\"img/Op-Amp_Feedback.png\" width=\"240\">\n",
    "\n",
    "\\begin{align*}\n",
    "V_{out} & = A(\\omega) \\left( V_{in} - f V_{out} \\right)\\\\\n",
    "\\frac{V_{out}}{V_{in}} & = \\frac{A(\\omega)}{1+f A(\\omega)}\\\\\n",
    "\\text{typically}\\\\\n",
    "A(\\omega) & = \\frac{A_0}{1+i\\frac{\\omega}{\\omega_0}}\n",
    "\\end{align*}\n"
   ]
  }
 ],
 "metadata": {
  "kernelspec": {
   "display_name": "Python 3",
   "language": "python",
   "name": "python3"
  },
  "language_info": {
   "codemirror_mode": {
    "name": "ipython",
    "version": 3
   },
   "file_extension": ".py",
   "mimetype": "text/x-python",
   "name": "python",
   "nbconvert_exporter": "python",
   "pygments_lexer": "ipython3",
   "version": "3.6.5"
  }
 },
 "nbformat": 4,
 "nbformat_minor": 2
}
