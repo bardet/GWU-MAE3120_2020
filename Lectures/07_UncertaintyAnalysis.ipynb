{
 "cells": [
  {
   "cell_type": "markdown",
   "metadata": {},
   "source": [
    "# 07 Uncertainty Analysis\n",
    "\n",
    "## Elemental Uncertainties\n",
    "\n",
    "### Pressure Regulator Calibration \n",
    "\n",
    "It is desired to use an Equilibar pressure regulator QPV in gas flow experiment.  The specifications for this regulator are:\n",
    "(https://www.equilibar.com/electronic-pressure-regulators/)\n",
    "\n",
    "> accuracy = .25%FS\n",
    "\n",
    "> repeatability = 0.02%FS\n",
    "\n",
    "However, the flow meter accuracy is too low for our application and one decides to calibrate it with a flow calibrator that has an accuracy of 0.04 % of FS.\n",
    "\n",
    "> What will be the accuracy of the calibrated instrument?\n",
    "\n",
    "\n",
    "### Pressure Measurement\n",
    "\n",
    "A pressure transducer is connected to a digital data-acquisition board on a computer.  The characteristics of the pressure transducer and the data-acquisition system (DAS) are given below.  All uncertainties are given at 95 % confidence level.  \n",
    "The environment temperature is uncertain by $\\pm 10^\\circ$C.\n",
    "\n",
    "\n",
    "> Pressure Transducer Characteristics: \n",
    "\n",
    "Range: 0-1,000 kPa \n",
    "\n",
    " Output: 0-5 V \n",
    "\n",
    " Linearity: $\\pm 0.25$ %FS \n",
    "\n",
    " Repeatability: $\\pm 0.06$ %FS \n",
    "\n",
    " Thermal-stability error: $\\pm 0.01$ %FS/$^\\circ$C  \n",
    "\n",
    "> DAS Characteristics:\n",
    "\n",
    " Number of bits: 10 bits\n",
    "\n",
    " Input range: $0-10,\\, 0-1,\\, 0-0.1,\\, 0-0.01$ V\n",
    "\n",
    " Gain error: $\\pm 2$ LSD\n",
    "\n",
    " Linearity: $\\pm 2$ LSD"
   ]
  },
  {
   "cell_type": "markdown",
   "metadata": {},
   "source": [
    "## Uncertainties of a result\n",
    "\n",
    "### Design of experiment\n",
    "\n",
    "One wishes to determine the heat transfer coefficient, $h$, of a heated rod of length, $L$, and diameter, $D$, in a flow. By applying the first law of thermodynamics one can relate the input power of the experiment, $W$, to\n",
    "$h$ by:\n",
    "\n",
    "\\begin{align*}\n",
    "h = \\frac{W}{\\pi D L \\Delta T}, \\textrm{where $\\Delta$T is the temperature difference between the rod and the surrounding fluid}\n",
    "\\end{align*}\n",
    "\n",
    "The relative uncertainties are: $\\frac{w_L}{L}=0.1\\%$, $\\frac{w_D}{D}=0.2\\%$, $\\frac{w_{\\Delta T}}{\\Delta T} = 1.0\\%$.  One wishes to have a maximum relative inaccuracy of 2% of $h$.\n",
    "\n",
    "What should be the relative accuracy of the power measurements, $w_W/W$?\n"
   ]
  },
  {
   "cell_type": "code",
   "execution_count": null,
   "metadata": {},
   "outputs": [],
   "source": []
  }
 ],
 "metadata": {
  "kernelspec": {
   "display_name": "Python 3",
   "language": "python",
   "name": "python3"
  },
  "language_info": {
   "codemirror_mode": {
    "name": "ipython",
    "version": 3
   },
   "file_extension": ".py",
   "mimetype": "text/x-python",
   "name": "python",
   "nbconvert_exporter": "python",
   "pygments_lexer": "ipython3",
   "version": "3.6.5"
  }
 },
 "nbformat": 4,
 "nbformat_minor": 2
}
