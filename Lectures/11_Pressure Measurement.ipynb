{
 "cells": [
  {
   "cell_type": "markdown",
   "metadata": {},
   "source": [
    "# 11 Pressure Measurement\n",
    "\n",
    "## Absolute vs Gage Pressure\n",
    "\n",
    "\n",
    "\\begin{align}\n",
    "P_{gage} = P_{abs}-P_{atm}\n",
    "\\end{align}\n",
    "\n",
    "<img src=\"img/GagePressure.png\" width=\"200\">\n",
    "\n",
    "## Dynamic Response\n",
    "\n",
    "<img src=\"img/PressureTubes_NASA.png\" width=\"300\">\n",
    "https://www.grc.nasa.gov/www/k-12/airplane/tunpsm.html\n",
    "<img src=\"img/ScanivalvePressureScanner.png\" width=\"300\">\n",
    "<img src=\"img/PT_tube.png\" width=\"300\">\n",
    "\n",
    "\n",
    "\\begin{align}\n",
    "\\left| \\frac{P}{P_0} \\right| = \\frac{1}{\\sqrt{\\left( 1 - \\left( \\frac{f}{f_n} \\right)^2  \\right)^2 + 4h^2 \\left( \\frac{f}{f_n} \\right)^2 }}\n",
    "\\end{align}\n",
    "with $f_n$ natural frequency, $h$ damping ratio\n",
    "\\begin{align}\n",
    "f_n = \\sqrt{\\frac{3 \\pi r^2 c^2}{4L V}} \\quad h = \\frac{2 \\mu}{\\rho c r^3} \\sqrt{3LV}{\\pi}\n",
    "\\end{align}\n",
    "with the for the fluid in the pressure transmitting tube: $c$ speed of sound, $\\mu$ dynamic viscosity, $\\rho$ density.\n",
    "\n",
    "Phase angle:\n",
    "\\begin{align}\n",
    "\\phi = \\tan^{-1} \\left( \\frac{-2 h (f/f_n)}{1-(f/f_n)^2} \\right)\n",
    "\\end{align}\n",
    "\n",
    "_example_\n",
    "\n",
    "\n",
    "A pressure transducer is connected to measurement test section through a thin tube.  The tube has radius $r=0.25$ mm and length $L=75$ mm.  It connects to a cavity of volume $V=3500$ mm$^3$.  The gas is air at 1 atm and 293 K.\n",
    "- Calculate natural frequency and damping ratio of this system\n",
    "- Calculate the attenuation for a 100 Hz pressure wave."
   ]
  },
  {
   "cell_type": "code",
   "execution_count": 9,
   "metadata": {},
   "outputs": [
    {
     "name": "stdout",
     "output_type": "stream",
     "text": [
      "3.5e-06\n"
     ]
    }
   ],
   "source": [
    "import numpy\n",
    "r = 0.25E-3 #m\n",
    "c = 340 #m/s\n",
    "L = 1 #m\n",
    "V = 3500E-9 #m3\n",
    "print(V)"
   ]
  },
  {
   "cell_type": "code",
   "execution_count": 10,
   "metadata": {},
   "outputs": [
    {
     "name": "stdout",
     "output_type": "stream",
     "text": [
      "f_n =  69.74136954622249  Hz\n"
     ]
    }
   ],
   "source": [
    "fn = numpy.sqrt((3*numpy.pi* r**2 * c**2)/(4*L *V))\n",
    "print('f_n = ',fn,' Hz')"
   ]
  },
  {
   "attachments": {},
   "cell_type": "markdown",
   "metadata": {},
   "source": [
    "## Electronic pressure transducers\n",
    "\n",
    "### Strain gage\n",
    "\n",
    "### Capacitance\n",
    "\n",
    "### LVDT\n",
    "\n",
    "### Optical\n",
    "\n",
    "## Piezoelectric pressure transducers"
   ]
  },
  {
   "cell_type": "code",
   "execution_count": null,
   "metadata": {},
   "outputs": [],
   "source": []
  }
 ],
 "metadata": {
  "kernelspec": {
   "display_name": "Python 3",
   "language": "python",
   "name": "python3"
  },
  "language_info": {
   "codemirror_mode": {
    "name": "ipython",
    "version": 3
   },
   "file_extension": ".py",
   "mimetype": "text/x-python",
   "name": "python",
   "nbconvert_exporter": "python",
   "pygments_lexer": "ipython3",
   "version": "3.7.3"
  }
 },
 "nbformat": 4,
 "nbformat_minor": 2
}
