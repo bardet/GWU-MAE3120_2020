{
 "cells": [
  {
   "cell_type": "markdown",
   "metadata": {},
   "source": [
    "# 10 Strain Gage\n",
    "\n",
    "\n",
    "## Stress, Strain\n",
    "The axial stress. $\\sigma_a$ is defined as:\n",
    "\\begin{align*}\n",
    "\\sigma_a = \\frac{F}{A}\n",
    "\\end{align*}\n",
    "with $F$ the axial load, and $A$ the cross sectional area of the beam under axial load.\n",
    "\n",
    "Under the load, the beam of length $L$ will extend by $dL$, giving rise to the definition of strain, $\\epsilon_a$:\n",
    "\\begin{align*}\n",
    "\\epsilon_a = \\frac{dL}{L}\n",
    "\\end{align*}\n",
    "\n",
    "Within the elastic limit, the stress and strain are related through Hooke's law by the Young's modulus, $E$:\n",
    "\\begin{align*}\n",
    "\\sigma_a = E \\epsilon_a\n",
    "\\end{align*}\n"
   ]
  },
  {
   "cell_type": "markdown",
   "metadata": {},
   "source": [
    "## Resistance of a wire\n",
    "\n",
    "The electrical resistance of a wire $R$ is related to its physical properties (the electrical resistiviy, $\\rho$ in $\\Omega$/m) and its geometry: length $L$ and cross sectional area $A$.\n",
    "\n",
    "\\begin{align*}\n",
    "R = \\frac{\\rho L}{A}\n",
    "\\end{align*}\n",
    "\n",
    "Mathematically, one showed in class that as the wire changes dimension, its electrical resistance changes:\n",
    "\n",
    "\\begin{align*}\n",
    "\\frac{dR}{R} = S \\epsilon_a\n",
    "\\end{align*}\n",
    "with $S$ the strain gage factor.  $S$ is materials dependent and is typically equal to 2.0 for most commercially availabe strain gages. It is dimensionless.\n",
    "\n",
    "Strain gages are made of thin wire that is wraped in several loops, effectively increasing the length of the wire and therefore the sensitivity of the sensor.\n",
    "\n",
    "_Explain why a longer wire is necessary to increase the sensitivity of the sensor_.\n",
    "\n",
    "Most commercially available strain gages have a nominal resistance (resistance under no load, $R_{ini}$) of 120 or 350 $\\Omega$.\n",
    "\n",
    "Within the elastic regime, strain is typically within the range $10^{-6} - 10^{-3}$, in fact strain is expressed in unit of microstrain, with a 1 microstrain = $10^{-6}$.  Therefore, changes in resistances will be of the same order.  If one were to measure resistances, we will need a dynamic range of 120 dB, whih is typically very expensive.  Instead, one uses the Wheatstone bridge to transform the change in resistance to a voltage, which is easier to measure and does not require such a large dynamic range."
   ]
  },
  {
   "cell_type": "markdown",
   "metadata": {},
   "source": [
    "## Wheatstone bridge:\n",
    "<img src=\"img/WheatstoneBridge.png\" width=\"200\">\n",
    "\n",
    "The output voltage is related to the difference in resistances in the bridge:\n",
    "\\begin{align*}\n",
    "\\frac{V_o}{V_s} = \\frac{R_1R_3-R_2R_4}{(R_1+R_4)(R_2+R_3)}\n",
    "\\end{align*}\n",
    "\n",
    "If the bridge is balanced, then $V_o = 0$, it implies: $R_1/R_2 = R_4/R_3$.\n",
    "\n",
    "In practice, finding a set of resistors that balances the bridge is challenging, and a potentiometer is used as one of the resistances to do minor adjustement to balance the bridge.  If one did not do the adjustement (ie if we did not zero the bridge) then all the measurement will have an offset or bias that could be removed in a post-processing phase, as long as the bias stayed constant.\n",
    "\n",
    "If each resistance $R_i$ is made to vary slightly around its initial value, ie $R_i = R_{i,ini} + dR_i$.  For simplicity, we will assume that the initial value of the four resistances are equal, ie $R_{1,ini} = R_{2,ini} = R_{3,ini} = R_{4,ini} = R_{ini}$.  This implies that the bridge was initially balanced, then the output voltage would be:\n",
    "\n",
    "\\begin{align*}\n",
    "\\frac{V_o}{V_s} = \\frac{1}{4} \\left( \\frac{dR_1}{R_{ini}} - \\frac{dR_2}{R_{ini}} + \\frac{dR_3}{R_{ini}} - \\frac{dR_4}{R_{ini}} \\right)\n",
    "\\end{align*}\n",
    "\n",
    "Note here that the changes in $R_1$ and $R_3$ have a positive effect on $V_o$, while the changes in $R_2$ and $R_4$ have a negative effect on $V_o$.  In practice, this means that is a beam is a in tension, then a strain gage mounted on the branch 1 or 3 of the Wheatstone bridge will produce a positive voltage, while a strain gage mounted on branch 2 or 4 will produce a negative voltage.  One takes advantage of this to increase sensitivity to measure strain.\n",
    "\n",
    "### Quarter bridge\n",
    "One uses only one quarter of the bridge, ie strain gages are only mounted on one branch of the bridge.\n",
    "\n",
    "\\begin{align*}\n",
    "\\frac{V_o}{V_s} = \\pm \\frac{1}{4} \\epsilon_a S\n",
    "\\end{align*}\n",
    "\n",
    "\n",
    "### Half bridge\n",
    "One uses half of the bridge, ie strain gages are mounted on two branches of the bridge.\n",
    "\n",
    "\\begin{align*}\n",
    "\\frac{V_o}{V_s} = \\pm \\frac{1}{2} \\epsilon_a S\n",
    "\\end{align*}\n",
    "\n",
    "### Full bridge\n",
    "\n",
    "One uses of the branches of the bridge, ie strain gages are mounted on each branch.\n",
    "\n",
    "\\begin{align*}\n",
    "\\frac{V_o}{V_s} = \\pm \\epsilon_a S\n",
    "\\end{align*}\n",
    "\n",
    "Therefore, as we increase the order of bridge, the sensitivity of the instrument increases.  However, one should be carefull how we mount the strain gages as to not cancel out their measurement."
   ]
  },
  {
   "cell_type": "markdown",
   "metadata": {},
   "source": [
    "_Exercise_\n",
    "\n",
    "1- Wheatstone bridge\n",
    "\n",
    "<img src=\"img/WheatstoneBridge.png\" width=\"200\">\n",
    "\n",
    "> How important is it to know \\& match the resistances of the resistors you employ to create your bridge?\n",
    "> How would you do that practically?\n",
    "> Assume $R_1=120\\Omega$, $R_2=120\\Omega$, $R_3=120\\Omega$, $R_4=110\\Omega$, $V_s=5.00V$.  What is $V_\\circ$?"
   ]
  },
  {
   "cell_type": "code",
   "execution_count": 1,
   "metadata": {},
   "outputs": [
    {
     "name": "stdout",
     "output_type": "stream",
     "text": [
      "-0.0024999479177532295\n"
     ]
    }
   ],
   "source": [
    "Vs = (120**2-120*120.01)/((240+240.01))\n",
    "print(Vs)"
   ]
  },
  {
   "cell_type": "markdown",
   "metadata": {},
   "source": [
    "2- Strain gage 1:\n",
    "\n",
    "One measures the strain on a bridge steel beam.  The modulus of elasticity is $E=190GPa$.  Only one strain gage is mounted on the bottom of the beam; the strain gage factor is $S=2.02$.\n",
    "\n",
    "> a) What kind of electronic circuit will you use?  Draw a sketch of it.\n",
    "\n",
    "> b) Assume all your resistors including the unloaded strain gage are balanced and measure $120\\Omega$, and that the strain gage is at location $R_2$.  The supply voltage is $5.00VDC$.  Will $V_\\circ$ be positive or negative when a downward load is added?\n",
    "\n",
    "> c) For a loading in which $V_\\circ = -1.25mV$, calculate the strain $\\epsilon_a$ in units of microstrain.\n",
    "\n",
    "> d) Calculate the axial stress (in $MPa$) in the beam under this load.\n",
    "\n",
    "> e) You now want more sensitivity in your measurement, you install a second strain gage on top of the beam.  Which resistor should you use for this second active strain gage?\n",
    "\n",
    "> f) With this new setup and the same applied load than previously, what should be the output voltage?"
   ]
  },
  {
   "cell_type": "markdown",
   "metadata": {},
   "source": [
    "3- Strain Gage with Long Lead Wires \n",
    "\n",
    "<img src=\"img/StrainGageLongWires.png\" width=\"360\">\n",
    "\n",
    "A quarter bridge strain gage Wheatstone bridge circuit is constructed with $120\\Omega$ resistors and a $120\\Omega$ strain gage.  For this practical application, the strain gage is located very far away form the DAQ station and the lead wires to the strain gage are $10m$ long and the lead wire have a resistance of $0.080\\Omega/m$.  The lead wire resistance can lead to problems since $R_{lead}$ changes with temperature.\n",
    "\n",
    "> Design a modified circuit that will cancel out the effect of the lead wires."
   ]
  },
  {
   "cell_type": "code",
   "execution_count": null,
   "metadata": {},
   "outputs": [],
   "source": []
  },
  {
   "cell_type": "code",
   "execution_count": null,
   "metadata": {},
   "outputs": [],
   "source": []
  }
 ],
 "metadata": {
  "kernelspec": {
   "display_name": "Python 3",
   "language": "python",
   "name": "python3"
  },
  "language_info": {
   "codemirror_mode": {
    "name": "ipython",
    "version": 3
   },
   "file_extension": ".py",
   "mimetype": "text/x-python",
   "name": "python",
   "nbconvert_exporter": "python",
   "pygments_lexer": "ipython3",
   "version": "3.6.5"
  }
 },
 "nbformat": 4,
 "nbformat_minor": 2
}
