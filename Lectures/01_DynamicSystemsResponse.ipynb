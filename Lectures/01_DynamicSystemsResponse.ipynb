{
 "cells": [
  {
   "cell_type": "markdown",
   "metadata": {},
   "source": [
    "# Module 1\n",
    "# Dynamic response of measurement systems\n",
    "\n",
    "In some tests, one is ony concerned by the steady nature of a signal.  The results are considered _static_.  In other cases, the time rate of change is small enough that the measurand can be considered _pseudo-static_.  In some practical applications, however, one is interested in the transient nature of the measurand, one needs then to perform dynamic measurements.  Therefore, the dynamic response of the system must be taken into account.  \n",
    "\n",
    "Below are data we took in my group of velocity and temperature.  It is a flow between two reservoirs, where hot helium leaves the first reservoir and enters the second and is replaced by nitrogen flowing from the second reservoir to the first.  This type of buoyancy driven flow is called a lock exchange.  The velocity was acquired with a laser technique that relies on displacement of molecular tracers and the temperature was recorded with a thermocouple.  The flow was a flow of helium, which is a very heat transfer medium.  What do you think happened here?\n",
    "\n",
    "![title](img/DCC1_lag_corrected1_raw.png)\n",
    "\n",
    "The two profiles appear to be correlated, meaning that they have similar shape.  You might know that there is a statistical tool to estimate the level of correlation between the two curves.  Here one can add a lag of -18 s to the temperature data and make it match the time history of the velocity (at least in the initial phase) fairly well.  Here are the same data, but plotted with the shift. \n",
    "\n",
    "![title](img/DCC1_lag_corrected1_shifted.png)\n",
    "\n",
    "There is still a disagreement on the profile shape, especially the rise time.  This raises two questions: 1- What causes the lag in response? 2- What causes the difference in rise times?\n",
    "\n",
    "This is evidence that one must be careful in selecting our sensor for transients.  Let's use a simple model to predict general behaviors of sensors.\n",
    "\n",
    "In general the dynamic response of a sytem, $y(t)$, can be modeled with an ordinary differential equation (ode):\n",
    "\n",
    "\\begin{align*}\n",
    "a_n\\frac{d^ny}{dt^n} + a_{n-1}\\frac{d^{n-1}y}{dt^{n-1}}x + \\dots + a_1 \\frac{dy}{dt} + a_0 y = F(t)\n",
    "\\end{align*}\n",
    "\n",
    "The order $n$ of the ode is also called the order of the system.  For the purpose of this class (and because it describes well most components of a measurement system) we will only study systems of order 0, 1, and 2.  To characterize the dynamic response of systems one typically uses a set of know functions.  Here we will use step function and sinusoidals.  You probably saw others in dynamics (at least Dirac and ramp).\n",
    "\n",
    "\n",
    "##  0$^{\\mathrm{th}}$ order system\n",
    "\n",
    "A 0$^{\\mathrm{th}}$ order system has the equation:\n",
    "\\begin{align*}\n",
    "y(t) = K F(t) = \\frac{1}{a_0} F(t)\n",
    "\\end{align*}\n",
    "\n",
    "This is what we would call an ideal system, the output is directly coupled to the input.  In other words, the output is in phase with the input and direclty proportional to the input.  The term $K=1/a_0$ is called the _static sensitivity_ or _steady-state gain_.  It is obtained (independent of any system order) when performing static calibration.\n",
    "\n",
    "The strain gauge is a good example of this.  However, once it is connected to flexible membrane (to make a type of pressure transducer for example) then the membrane vibration makes the overall system second order.\n",
    "\n",
    "##  1$^{\\mathrm{st}}$ order system\n",
    "\n",
    "A 1$^{\\mathrm{st}}$ order system has the equation:\n",
    "\\begin{align*}\n",
    "a_1 \\frac{dy}{dt} + a_0 y & = F(t) \\\\\n",
    "\\tau \\frac{dy}{dt} + y & = K F(t)\n",
    "\\end{align*}\n",
    "with $\\tau = a_1/a_0$ the time constant of the system.  \n",
    "\n",
    "Sensors that fall in that category are thermometers, thermcouples.  They are instruments that exhibit a lag due the _capacity_ of the instrument.  For thermal sensing devices, the capacity could be understood as the time it takes for the sensing element to become in thermal equilibrium with its surroundings.  For a thermocouple the parameters are:\n",
    "\\begin{align*}\n",
    "\\tau = \\frac{mC}{h_{sf}A_s}\n",
    "\\end{align*}\n",
    "with $m$: mass of thermocouple, $C$ specific heat of the thermcouple, $h_{sf}$ convection heat transfer coefficient from fluid to the sensor, and $A_s$ sensing surface area of the thermcouple.\n",
    "\n",
    "Let's derive the governing equation for a thermocouple.\n",
    "\n",
    "### Response to step-input\n",
    "\n",
    "At $T<0$, $F(t) = 0$ and $y=y_0$, and $F(t)=A$ at $t \\geqslant 0$.  The solution of the 1$^{st}$ order ode is:\n",
    "\n",
    "\\begin{align*}\n",
    "y(t) = KA + (y_0 - KA)e^{-t/\\tau}\n",
    "\\end{align*}\n",
    "\n",
    "As $t \\rightarrow \\infty$, $y\\rightarrow y_\\infty$.  At $t/\\tau=1$ the signal has reached 0.6321\\% of $y_\\infty$, $t/\\tau=5$, $y/y_\\infty > 99\\%$. The equation above can be normalized by introducing the magnitude ratio, $M(t)$.\n",
    "\n",
    "\\begin{align*}\n",
    "M(t) = \\frac{y(t)-y_0}{y_\\infty - y_0} = 1 - e^{-t/\\tau}\n",
    "\\end{align*}\n",
    "\n",
    "_Question_: \n",
    "> How would you define the dynamic error, $\\epsilon_f(t)$.\n",
    "\n",
    "### Response to sinusoidal-input\n",
    "Here $F(t) = A \\sin \\omega t$, with $\\omega=2\\pi f$ the radiant frequency in rad/s ($f$ is the frequency in Hz).\n",
    "\n",
    "After some math, the solution of the ode is:\n",
    "\\begin{align*}\n",
    "y(t) & = \\left( y_0 + \\frac{\\omega \\tau KA}{1+\\omega^2 \\tau^2} \\right) e^{-t/\\tau} + \\frac{KA}{\\sqrt{1+\\omega^2\\tau^2}} \\sin(\\omega t + \\phi)\\\\\n",
    "\\mathrm{with\\,the\\,phase}\\\\\n",
    "\\phi & = \\tan^{-1}(-\\omega \\tau) = -\\tan^{-1}(\\omega \\tau)\n",
    "\\end{align*}\n",
    "\n",
    "The second term on the RHS represents the _transient response_, while the third is the _steady-state response_.  When $\\omega \\tau << 1$ the transient response is negligible and the output follows the input closely.  When $\\omega \\tau >> 1$ the output is attenuated and its phase is shifted from the input by $\\phi$ (in radians).  The _phase lag_ (in seconds), or lag time, $\\beta$, is:\n",
    "\n",
    "\\begin{align*}\n",
    "\\beta = \\frac{\\phi}{\\omega}\n",
    "\\end{align*}\n",
    "\n",
    "At steady-state, the magnitude ratio becomes:\n",
    "\\begin{align*}\n",
    "M(\\omega) = \\frac{y - y_0}{KA} = \\frac{1}{\\sqrt{1+\\omega^2 \\tau^2}}\n",
    "\\end{align*}\n",
    "and the dynamic error, \n",
    "\\begin{align*}\n",
    "\\epsilon_f(\\omega) = 1 - \\frac{1}{\\sqrt{1+\\omega^2 \\tau^2}}\n",
    "\\end{align*}\n",
    "\n",
    "Let's plot the results"
   ]
  },
  {
   "cell_type": "code",
   "execution_count": 1,
   "metadata": {},
   "outputs": [],
   "source": [
    "import numpy\n",
    "\n",
    "def y_sin(t,T,tau,y_0,K,A):\n",
    "   ''' Calculate the output of a first order ode when forcing function is \n",
    "   a sine wave of frequency f with phase phi\n",
    "   Arguments\n",
    "   ---------\n",
    "   t: time (in second)\n",
    "   T : period of the forcing sine wave (s)\n",
    "   tau: time constant of the system (s)\n",
    "   K: static sensitivity (dimensionless)\n",
    "   A: amplitude of forcing (unit of F)\n",
    "   Returns\n",
    "   -------\n",
    "   y_sin : Output of 1st order ode, see eqn above.\n",
    "   '''    \n",
    "   omega = 2*numpy.pi/T # convert f to radial frequency\n",
    "   phi = -numpy.arctan(omega*tau) \n",
    "   y_sin = (y_0 + (omega*tau*K*A)/(omega**2*tau**2+1))*numpy.exp(-t/tau) + K*A/(numpy.sqrt(omega**2*tau**2+1)) \\\n",
    "    *numpy.sin(omega*t+phi)\n",
    "   \n",
    "   return y_sin\n",
    "\n",
    "t=numpy.linspace(0.0,10.0,num=100) # (s)\n",
    "\n",
    "#print('t = ', t)\n",
    "\n",
    "T = 5 # (s)\n",
    "tau = T/2 # (s)\n",
    "y_0 = 0\n",
    "K = 1\n",
    "A = 1\n",
    "\n",
    "y_out = y_sin(t,T,tau,y_0,K,A)\n",
    "\n",
    "#print(y_out)"
   ]
  },
  {
   "cell_type": "code",
   "execution_count": 2,
   "metadata": {},
   "outputs": [
    {
     "data": {
      "image/png": "[encoded data removed]",
      "text/plain": [
       "<Figure size 432x288 with 1 Axes>"
      ]
     },
     "metadata": {
      "needs_background": "light"
     },
     "output_type": "display_data"
    }
   ],
   "source": [
    "from matplotlib import pyplot\n",
    "%matplotlib inline\n",
    "\n",
    "pyplot.plot(t, y_out, color='k', linestyle='-') # output\n",
    "pyplot.plot(t, A*numpy.sin(2*numpy.pi/T*t), color='b', linestyle='--'); # input\n",
    "\n"
   ]
  },
  {
   "cell_type": "markdown",
   "metadata": {},
   "source": [
    "Let's also plot the magnitude ratio and phase"
   ]
  },
  {
   "cell_type": "code",
   "execution_count": 3,
   "metadata": {},
   "outputs": [],
   "source": [
    "def M_1(omega,tau):\n",
    "   ''' calculate the magnitude ratio for first order ode\n",
    "   Arguments\n",
    "   ---------\n",
    "   omega_range : range of angular frequencies\n",
    "   tau: time constant of the system (s)\n",
    "   Returns\n",
    "   -------\n",
    "   M_1 : Magnitude ratio of 1st order ode, see eqn above.\n",
    "   '''    \n",
    "   M_1 = 1/(numpy.sqrt(omega**2*tau**2+1)) \n",
    "\n",
    "   return M_1  \n",
    "\n",
    "def phi_1(omega,tau):\n",
    "   ''' calculate the phase delay\n",
    "   Arguments\n",
    "   ---------\n",
    "   omega_range : range of angular frequencies\n",
    "   tau: time constant of the system (s)\n",
    "   Returns\n",
    "   -------\n",
    "   phi_1 : phase delay for 1st order ode, see eqn above. (deg)\n",
    "   '''    \n",
    "   phi_1 = -180/numpy.pi*numpy.arctan(omega*tau) \n",
    "\n",
    "   return phi_1\n",
    "\n",
    "omega_range = numpy.logspace(-2,2,num=100)\n",
    "#print(omega_range)\n",
    "\n",
    "M1 = M_1(omega_range,tau)\n",
    "phi1 = phi_1(omega_range,tau)\n",
    "#print(phi1)"
   ]
  },
  {
   "cell_type": "code",
   "execution_count": 4,
   "metadata": {},
   "outputs": [
    {
     "data": {
      "image/png": "[encoded data removed]",
      "text/plain": [
       "<Figure size 432x288 with 1 Axes>"
      ]
     },
     "metadata": {
      "needs_background": "light"
     },
     "output_type": "display_data"
    }
   ],
   "source": [
    "pyplot.plot(omega_range, M1, color='k', linestyle='-') #, label='square')\n",
    "pyplot.xscale('log')\n",
    "pyplot.yscale('log')"
   ]
  },
  {
   "cell_type": "code",
   "execution_count": 5,
   "metadata": {},
   "outputs": [
    {
     "data": {
      "image/png": "[encoded data removed]",
      "text/plain": [
       "<Figure size 432x288 with 1 Axes>"
      ]
     },
     "metadata": {
      "needs_background": "light"
     },
     "output_type": "display_data"
    }
   ],
   "source": [
    "pyplot.plot(omega_range, phi1, color='k', linestyle='-') #, label='square')\n",
    "pyplot.xscale('log')"
   ]
  },
  {
   "cell_type": "markdown",
   "metadata": {},
   "source": [
    "_Example_\n",
    "\n",
    "A thermocouple is immersed in a fluid and connected to a data acquisition system.  The overall static sensitivity of the sensor and DAQ is 10 mV/K (the output $E(t)$ is in mV).  The fluid temperature varies sinusoidally: $T=50 \\sin 3 t$.  The time constant of the thermocouple is $\\tau = 0.5$ s.  Determine:\n",
    "\n",
    "> $E(t)$,\n",
    "\n",
    "> time delay, $\\beta$,\n",
    "\n",
    "> dynamic error, $\\epsilon_f$."
   ]
  },
  {
   "cell_type": "code",
   "execution_count": 6,
   "metadata": {},
   "outputs": [],
   "source": [
    "A=50 # K\n",
    "K=10 #mV/K"
   ]
  },
  {
   "cell_type": "markdown",
   "metadata": {},
   "source": [
    "### deciBel and bandwidth\n",
    "\n",
    "\n",
    "The magnitude ratio (which we are going to be related to _gain_ very soon) is expressed in units of decibels.  The Bel is defined as the $\\log_{10}$ of the gain, with _gain_, $G$, the ratio of output to input powers.  \n",
    "\n",
    "\\begin{align*}\n",
    "\\text{Bel} = \\log_{10} (G) = \\log_{10} \\left( \\frac{P_{out}}{P_{in}} \\right)\n",
    "\\end{align*}\n",
    "\n",
    "1 Bel is therefore a factor of 10 in power. 1 decibel (dB) is a factor of $10^{1/10} \\sim 1.259$ in power.\n",
    "\n",
    "\\begin{align*}\n",
    "\\text{dB} & = 10 \\log_{10} (G) \\\\\n",
    "& = 1/10\\, \\text{Bel}\\\\\n",
    "10 \\, \\text{dB} & = 1\\,\\text{Bel}\n",
    "\\end{align*}\n",
    "\n",
    "Some useful approximations\n",
    "\n",
    "\\begin{align*}\n",
    "\\log_{10} 2 & \\sim 0.30103 \\sim 0.3\\\\\n",
    "-3\\,\\text{dB} & \\sim \\text{factor of two LESS power}\\\\\n",
    "7\\,\\text{dB} & \\sim \\text{factor of five MORE power}\\\\\n",
    "6\\,\\text{dB} & \\sim \\text{factor of four MORE power}\\\\\n",
    "-34\\,\\text{dB} & \\sim \\text{factor of } 4\\times 10^{-4} \\text{LESS power}\\\\\n",
    "\\end{align*}\n",
    "\n",
    "Because power is typically the square of a quantity ($P=y^2$), then the decibel becomes:\n",
    "\n",
    "\\begin{align*}\n",
    "\\mathrm{dB} = 20 \\log_{10} \\frac{y_{out}}{y_{in}} = 20 \\log_{10} M(\\omega)\n",
    "\\end{align*}\n",
    "\n",
    "<img src=\"img/GrahamBell.png\" width=\"240\">\n",
    "\n",
    "The decibel was introduced in sounds first when the telephone was developed.  It is a relative unit, but it is used as absolute unit in some fields:\n",
    "\n",
    "\\begin{array}{l l }\n",
    "\\text{telephony} & 0\\, \\text{dB} = 1\\,\\text{mW into 600}\\,\\Omega\\\\\n",
    "\\text{cable TV} & 0\\, \\text{dB} = 1000\\,\\mu \\text{V into 75}\\,\\Omega\\\\\n",
    "\\text{acoustics} & 0\\, \\text{dB} = 2\\times 10^{-10}\\, \\text{bar in air} = 10^{-12} \\, \\text{W/m}^2\n",
    "\\end{array}\n",
    "\n",
    "\n",
    "__Bandwidth__ is described as the range of frequency over which the magnitude is attenuated by less than -3 dB (70.7%).  The frequency at which the amplitude is decreased by -3 dB is called the __cutoff frequency__. Depending on the nature of the system, it can have a _low cutoff frequency_ and a _high cutoff frequency_.  The _center frequency_ will be deined as the average of the low and high cutoff frequencies.  "
   ]
  },
  {
   "cell_type": "markdown",
   "metadata": {},
   "source": [
    "_example_\n",
    "\n",
    "Determine the cutoff frequency(ies) and bandwidth of a first order system having time constant $\\tau = 0.01$ s that is forced by a sinusoidal waveform."
   ]
  },
  {
   "cell_type": "markdown",
   "metadata": {},
   "source": [
    "##  2$^{\\mathrm{nd}}$ order system\n",
    "\n",
    "A 2$^{\\mathrm{nd}}$ order system has the equation:\n",
    "\\begin{align*}\n",
    "a_2 \\frac{d^2y}{dt^2} + a_1 \\frac{dy}{dt} + a_0 y = F(t)\n",
    "\\end{align*}\n",
    "\n",
    "The equation above can be rewritten as:\n",
    "\\begin{align*}\n",
    "\\frac{1}{\\omega^2_n} \\frac{d^2y}{dt^2} + \\frac{2\\zeta}{\\omega_n} \\frac{dy}{dt} + y = K F(t)\n",
    "\\end{align*}\n",
    "\n",
    "Here $\\omega_n = \\sqrt{a_0/a_2}$ is the natural frequency of the system and $\\zeta = a_1/2\\sqrt{a_0a_2}$ is the damping ratio.\n",
    "\n",
    "This is typically a spring, mass, damper system.  It models sensors with _inertia_, for example, accelerometers, pressure transducers, etc.  For pressure transducers the inertia can be seen as the time it takes for the membrane to start deflecting and it will keep moving under its own inertia even after the pressure stops.   \n",
    "\n",
    "The solution for second order ode is more complicated than for first order.  The form of the homogeneous solution depends on the roots of its characteristic equation:\n",
    "\\begin{align*}\n",
    "\\frac{1}{\\omega^2_n} r^2 + \\frac{2\\zeta}{\\omega_n} r + 1 = 0\n",
    "\\end{align*}\n",
    "\n",
    "The roots are:\n",
    "\\begin{align*}\n",
    "r_{1,2} = - \\zeta \\omega_n \\pm \\omega_n\\sqrt{\\zeta^2-1}\n",
    "\\end{align*}\n",
    "Depending on the value of the discriminant $\\zeta^2-1$ there can be three solutions to the homogeneous equation:\n",
    "> 1- $\\zeta^2-1>0$, the roots are real, negative, and distinct. The homogeneous solution takes the form:\n",
    "\\begin{align*}\n",
    "y_h(t) = c_1 e^{r_1 t} + c_2 e^{r_2 t}\n",
    "\\end{align*}\n",
    "\n",
    "> 2- $\\zeta^2-1=0$ the roots are real, negative, and not distinct ($r=-\\omega_n$).  Then,\n",
    "\\begin{align*}\n",
    "y_h(t) = c_1 e^{-\\omega_n t} + c_2 t e^{-\\omega_n t}\n",
    "\\end{align*}\n",
    "\n",
    "> 3- $\\zeta^2-1<0$ the roots are complex and distinct ($r_{1,2} = \\lambda \\pm i \\mu$, $\\lambda$ is negative):\n",
    "\\begin{align*}\n",
    "y_h(t) = e^{\\lambda t} (c_1 \\cos \\mu t + c_2 \\sin \\mu t)\n",
    "\\end{align*}\n",
    "\n",
    "Note that for the three cases, the homogeneous solutions all have an exponential term that is negative in time, so the homogeneous solutions will decay to 0, they are the transient solutions.  For each of three cases identified above, one can characterize the transient solution as: For $\\zeta^2-1>0$ the system is __over damped__, for $\\zeta^2-1=0$ the system is __critically damped__, and for $\\zeta^2-1<0$, the system is __under damped__.\n",
    "\n",
    "### Response to step-input\n",
    "\n",
    "> 1- $\\zeta^2-1>0$, or the over damped case.  The overall response (homogeneous and particular solution) takes the form:\n",
    "\n",
    "\\begin{align*}\n",
    "y(t) = KA \\left[ 1-e^{-\\zeta \\omega_n t}\\left(\\cosh \\left( \\omega_n t \\sqrt{\\zeta^2 - 1} \\right) \\right) + \\frac{\\zeta}{\\sqrt{\\zeta^2-1}} \\sinh \\left( \\omega_n t \\sqrt{\\zeta^2 - 1} \\right) \\right]\n",
    "\\end{align*}\n",
    "\n",
    "> 2- $\\zeta^2-1=0$, or the critically damped case.\n",
    "\n",
    "\\begin{align*}\n",
    "y(t) = KA \\left[1-e^{-\\omega_n t} (1+\\omega_n t) \\right]\n",
    "\\end{align*}\n",
    "\n",
    "> 3- $\\zeta^2-1<0$, or the under damped case.\n",
    "\n",
    "\\begin{align*}\n",
    "y(t) & = KA \\left[ 1-e^{-\\zeta \\omega_n t} \\left( \\frac{1}{\\sqrt{1-\\zeta^2}} \\sin \\left( \\omega_n t \\sqrt{1-\\zeta^2} + \\phi \\right) \\right) \\right] \\\\\n",
    "\\textrm{with}\\\\\n",
    "\\phi & = \\sin^{-1}\\left( \\sqrt{ 1 - \\zeta^2} \\right)\n",
    "\\end{align*}\n",
    "\n",
    "Here the time constant is $1/\\zeta \\omega_n$.\n",
    "\n",
    "<img src=\"img/2ndorderStep.png\" width=\"460\">\n",
    "\n",
    "### Response to sinusoidal-input\n",
    "\n",
    "Here we will neglect the transient response, because the homogeneous solution tends to 0 as time increases.  The steady-state solution will be the particular solution only and we will focus on it solely.\n",
    "\n",
    "The particular solution is (for $F(t) = A \\sin(\\omega t)$:\n",
    "\\begin{align*}\n",
    "y_p(t) = \\frac{KA \\sin(\\omega t + \\phi(\\omega))}{\\left( [1-(\\omega/\\omega_n)^2]^2 + [2\\zeta \\omega / \\omega_n]^2 \\right)^{1/2}}\n",
    "\\end{align*}\n",
    "\n",
    "The phase lag (in radian) is:\n",
    "\n",
    "\\begin{align*}\n",
    "\\phi (\\omega) & = - \\tan^{-1}\\left( \\frac{2\\zeta \\omega/\\omega_n}{1-(\\omega/\\omega_n)^2}  \\right) \\; \\mathrm{for} \\frac{\\omega}{\\omega_n} \\leqslant 1 \\\\\n",
    "\\phi (\\omega) & = - \\pi - \\tan^{-1}\\left( \\frac{2\\zeta \\omega/\\omega_n}{1-(\\omega/\\omega_n)^2}  \\right) \\; \\mathrm{for} \\frac{\\omega}{\\omega_n} \\geqslant 1\n",
    "\\end{align*}\n",
    "\n",
    "The steady-state solution of the magnitude ratio, $M(\\omega)$, is simply (divide $y_p$ by $KA \\sin(\\omega t)$:\n",
    "\n",
    "\\begin{align*}\n",
    "M(\\omega) = \\frac{1}{\\left( [1-(\\omega/\\omega_n)^2]^2 + [2\\zeta \\omega / \\omega_n]^2 \\right)^{1/2}}\n",
    "\\end{align*}\n",
    "\n"
   ]
  },
  {
   "cell_type": "code",
   "execution_count": 7,
   "metadata": {},
   "outputs": [],
   "source": [
    "def M_2(omega,omega_n,zeta):\n",
    "   ''' calculate the magnitude ratio for second order ode\n",
    "   Arguments\n",
    "   ---------\n",
    "   omega_range : range of angular frequencies\n",
    "   omega_n : natural frequency of the system (rad/s)\n",
    "   zeta : damping coefficient\n",
    "   Returns\n",
    "   -------\n",
    "   M_2 : Magnitude ratio of 2nd order ode, see eqn above.\n",
    "   '''    \n",
    "   M_2 = 1/numpy.sqrt( (1-omega**2/omega_n**2)**2 + (2*zeta*omega_range/omega_n)**2 )\n",
    "\n",
    "   return M_2\n",
    "\n",
    "\n",
    "omega_n = 1 # (Hz)\n"
   ]
  },
  {
   "cell_type": "code",
   "execution_count": 8,
   "metadata": {},
   "outputs": [
    {
     "data": {
      "image/png": "[encoded data removed]",
      "text/plain": [
       "<Figure size 576x576 with 1 Axes>"
      ]
     },
     "metadata": {
      "needs_background": "light"
     },
     "output_type": "display_data"
    }
   ],
   "source": [
    "fig = pyplot.figure(figsize=(8,8))\n",
    "zeta_range = [0.1, 0.2, 0.3, 0.5, 0.7, 1, 2, 3, 5, 7, 10]\n",
    "for zeta in zeta_range:\n",
    "    M2 = M_2(omega_range,omega_n,zeta)\n",
    "    pyplot.plot(omega_range, M2, color='k', linestyle='-')\n",
    "pyplot.xscale('log')\n",
    "pyplot.yscale('log')"
   ]
  },
  {
   "cell_type": "markdown",
   "metadata": {},
   "source": [
    "_Example_\n",
    "\n",
    "A pressure transducer is connected to a test section through a piece of flexible tubing (this configuration is typical of wind tunnel testings).  The pressure measured as the following waveform:\n",
    "\\begin{align*}\n",
    "P(t) = 20 \\sin 3 t\n",
    "\\end{align*}\n",
    "\n",
    "Both the tubing and pressure transducers behave a linear second order systems.  The natural frequencies of the transducer and tubing are 1,000 Hz and 20 Hz, respectively.  Their damping ratios are $\\zeta_{trans} = 0.7$ and $\\zeta_{tube} = 0.3$.\n",
    "\n",
    "Find the magnitude of the attenuation and phase lag of the pressure signal as outputed by the transducer.  \n",
    "\n",
    "_Note_ Because the system is linear, the overall magnitude ratio of the system, $M_s$, and phase lag, $\\phi_s$, are:\n",
    "\\begin{align*}\n",
    "M_s(\\omega) & = M_{tube}(\\omega) \\times M_{trans}(\\omega) \\\\\n",
    "\\phi_s(\\omega) & = \\phi_{tube}(\\omega) \\times \\phi_{trans}(\\omega)\n",
    "\\end{align*}"
   ]
  },
  {
   "cell_type": "markdown",
   "metadata": {},
   "source": [
    "### Distortion\n",
    "\n",
    "An ideal system should also have a magnitude ratio that is indenpendent of input signal (we did not derive a model for this here as we assumed this was respected).  We then talk of __linear amplitude response__. If the system stops responding linearly, it is __overdriven__.  This is what happens with operational amplifiers when we saturate them with an input voltage that is too big.\n",
    "\n",
    "In light of the dynamic system response seen above, we can now understand frequency response.  A system is said to have __linear frequency response__ if it treats all the frequencies in a signal with the same magnitude ratio (ratio of output over input) and phase shift over the frequency range of interest.  \n",
    "\n",
    "If phase shifts are large and the input waveform complex, the output waveform will have severe distortions.  In fact, the other two parameters seen above will contribute to distortions of the sensed signal.  __Distortion__ can be defined as the deviation of a signal from its true form.  In music distortions should be avoided when one records a signal (to truly capture the desired sound), but can be taken advantage of it to generate new sounds (think Jimmy Hendrix).  For music recording on digital devices (CD's in the 80's, mp3's now), special rules have been developed to minimize distortions.  We will see them soon when we describe digital data acquisition (in this context this will be referred to as __aliasing__), but before that we will need to discuss spectral content of signals and Fourier transforms.\n",
    "\n",
    "\n",
    "Now let's go back to the data taken in my lab of thermcouple and velocity and let's try to provide answers to the two questions:\n",
    "\n",
    "> 1- What causes the lag in response? \n",
    "\n",
    "> 2- What causes the difference in rise times?\n"
   ]
  },
  {
   "cell_type": "markdown",
   "metadata": {},
   "source": [
    "## Experiment planning\n",
    "\n",
    "![title](img/ExpDesign0.png)\n",
    "\n",
    "![title](img/ExpDesign1.png)\n",
    "\n",
    "<img src=\"img/ExpDesign2.png\" width=\"480\">\n"
   ]
  }
 ],
 "metadata": {
  "kernelspec": {
   "display_name": "Python 3",
   "language": "python",
   "name": "python3"
  },
  "language_info": {
   "codemirror_mode": {
    "name": "ipython",
    "version": 3
   },
   "file_extension": ".py",
   "mimetype": "text/x-python",
   "name": "python",
   "nbconvert_exporter": "python",
   "pygments_lexer": "ipython3",
   "version": "3.7.3"
  }
 },
 "nbformat": 4,
 "nbformat_minor": 2
}
